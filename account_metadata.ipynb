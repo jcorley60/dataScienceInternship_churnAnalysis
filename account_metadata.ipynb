{
 "cells": [
  {
   "cell_type": "markdown",
   "id": "5175b29e",
   "metadata": {},
   "source": [
    "# Code & Logic for Determining Account Metadata\n",
    "### This file was created by making extensive use of `table_view_exploration_feature_engineering.ipynb` [witheld for GitHub]\n",
    "\n",
    "Consider the following hypothesis:\n",
    "\n",
    "---\n",
    "> $H_1$: It is possible to predict (with some metric) if an account will be closed within the next 30-days using at minimum the following feature set:\n",
    ">> {\n",
    "    prior 30-transactions,\n",
    "    is joint account?,\n",
    "    age of account owner\n",
    "}\n",
    "---\n",
    "\n",
    "\n",
    "\n",
    "### STEP 3: (logical breakdown of hypothesis exploration)\n",
    "> When considering $H_1$ or $H_0$, how do we determine which **features** are amenable to our churn analysis?\n",
    "\n",
    "For the aforementioned hypothesis:\n",
    "This Jupyter Notebook is concerned with determining important features, solely, where additional separate files are to follow for subsequent steps.\n",
    "\n",
    "* While our lookback period for **closed/open acounts** is **1/1/2022 - 8/1/2022** when we examine **metadata** associated with these accounts (but not account transactions) this examination period will consist of **9/1/2021 - 8/1/2022**.\n",
    "    - 9/1/2022 has been chosen as a start date as it represents 90-days prior\n",
    "    - 8/1/2022 has been chosen as an end date as it coincides with the account closure/opening end constraint\n",
    "* For our features below we will not present data collected on closed accounts for the 30-days immediately prior to an accounts closure.\n",
    "    - this prevents us from creating a model which uses future data.\n",
    "\n",
    "\n",
    "#### IMPORTANT NOTE: Exploration carried out via BELLCO_PROD_DNA.OSIBANK, Bellco Credit Union's institutional data."
   ]
  },
  {
   "cell_type": "markdown",
   "id": "607d8ecb",
   "metadata": {},
   "source": [
    "# FEATURE ENGINEERING\n",
    "## Feature Engineering Idea List\n",
    "Given the constraints of the underlying database/data collection integrity and also time not all of these ideas could be implemented and/or explored.  However, many ideas have been implemented and are summarized immediately below under **FEATURE SUMMARY**.\n",
    "* **ACCOUNT INFORMATION**\n",
    "    - account age\n",
    "    - metadata about the **account owner**: demographics\n",
    "        * income\n",
    "        * zipcode\n",
    "        * marital status (0/1)\n",
    "        * DOB / age of account owner (DOB presented & model infers the respective account owner age)\n",
    "        * total number of accounts (`acct` table lists primary account holder, so we can determine if they have any other accounts)\n",
    "    - branch number current vs historical (BRANCHORGNBR vs ORGBRANCHNBR)\n",
    "        * delta (create another feature, time permitting)\n",
    "    - joint vs single ownership column (own cd column)\n",
    "    - account lockouts/notes/warnings (check closed status code/make null or binary)\n",
    "    - account changes / maint.\n",
    "        * NSF (non-sufficient funds) fees assessed\n",
    "* **TRANSACTION INFORMATION**\n",
    "    * account balance info:\n",
    "        - examine account transactions to determine if direct deposit/recurring transactions occur/stop\n",
    "            * e.g. $1,500 every 2-weeks\n",
    "        - recent balance dollar amount\n",
    "    * account activity\n",
    "        - unusual activity\n",
    "        - type/source of transactions prior to account closure (OB vs branch, etc.)\n",
    "        - loan paid off / sent elsewhere from indirect lending channel\n",
    "            - indirect lending: car dealership refers someone to the financial institution for a car loan & is approved this way\n",
    "        - rolling average number of transactions per day/week/etc.\n",
    "            * the delta/change in average transactions may be illustrative of unusual activity"
   ]
  },
  {
   "cell_type": "markdown",
   "id": "5ab8ee41",
   "metadata": {},
   "source": [
    "## FEATURE SUMMARY\n",
    "* `trxn_acct` - binary {Y:1, N:0} - is the account in question a type capable of processing transaction? E.g. checking or savings accounts, etc.\n",
    "* `retirement_acct` - binary {Y:1, N:0} - is the account in question a retirement account?\n",
    "* `stmnt_acct` - binary {Y:1, N:0} - does the account in question have associated statements generated?\n",
    "* `acct_valid` - binary {Y:1, N:0} - Was the account in question ever validated? \n",
    "* `num_acct_roles` - counting number/continuous {1:16} - the number of roles related to number of people w/ account access, including mbrs, but also employees or other\n",
    "* `days_active` - continuous {days} - how long has it been since the account was opened? \n",
    "* `nsf_fees` - binary {Y:1, N:0} - was there at least 1 non-sufficient funds fee assessed during the lookback period?\n",
    "* `uncollected_funds` - binary {Y:1, N:0} - were there uncollected funds under a given account during the lookback period?\n",
    "* `atm_withdr` - binary {Y:1, N:0} - were there ATM withdrawals for a given account during the lookback period?\n",
    "* `past_due` - binary {Y:1, N:0} - was the account past due for payment(s) during the lookback period?\n",
    "* `AVG_ACCT_BAL` - continuous - This feature provides us with the account balance throughout the lookback period for each respective account located and the median for any missing accounts. \n",
    "* `acctlockoutflag` - binary {Y:1, N:0} - did an account have at least 1 active lockout flag during the lookback period?\n",
    "* `acct_type` - categorical - 12 levels representing a mid-level category the account type falls into (checking, savings, mortgage loan, etc.)\n",
    "* `own_single` - binary {Y:1, N:0} - if 1 then this account is solely owned, otherwise the account has joint ownership\n",
    "* `acct_own_age` - continuous {2:108 years old} - derived from reported birthdate, which appears conspicuously missing for a fraction of the population.  The median age has been used to determine these missing values.\n",
    "* `own_valid` - binary {1:Yes, 0:No} - Did the account owner pass Bellco's validation protocol?\n",
    "* `credit_score` - continuous {300-850}/categorical - The primary account owner's average credit score for the lookback period 1/1/2022 - 8/1/2022\n",
    "* `zipcode` - categorical - US exclusive zipcodes \n",
    "* `num_trxn` - counting number/continous - how many transactions were there for an associated account during the lookback period?\n",
    "* `rtxn_source_mode` - counting/continuous - the most common category of transaction per account\n",
    "* `trxn_issues` - binary {Y:1, N:0} - this feature indicates if there were any problems associated with account transactions, namely cancelled, reversed or rejected transactions.\n"
   ]
  },
  {
   "cell_type": "markdown",
   "id": "b68378c9",
   "metadata": {},
   "source": [
    "### Features Unavilable Due to Underlying Data Collection Integrity\n",
    "An attempt was made to utilize the following which are generally collected by convention for financial institution records:\n",
    "* education level\n",
    "* marital status\n",
    "* income level\n",
    "* number of dependents\n",
    "* primary account owner's occupation\n",
    "* does the primary account owner rent or own?\n",
    "* NAICS SIC codes (Service Industry Code) related to the account and the account owner\n",
    "* account source funds"
   ]
  },
  {
   "cell_type": "code",
   "execution_count": 1,
   "id": "246a0da0",
   "metadata": {},
   "outputs": [],
   "source": [
    "import numpy as np\n",
    "import pandas as pd\n",
    "from snowflake.snowpark.session import Session\n",
    "from snowflake.snowpark.functions import (\n",
    " col, lit, sum as sum_, max as max_, count as count_, avg as avg_, datediff, current_date, floor, when\n",
    ")\n",
    "import snowflake.snowpark.functions as f\n",
    "from snowflake.snowpark import *\n",
    "import yaml\n",
    "import os\n",
    "pd.set_option('display.max_columns', None)\n",
    "from sklearn.impute import SimpleImputer"
   ]
  },
  {
   "cell_type": "code",
   "execution_count": 2,
   "id": "e7682baf",
   "metadata": {},
   "outputs": [],
   "source": [
    "# Encountered PIL issue for visualization 8/7/2023 after system Windows 10 update/restart\n",
    "# from PIL import Image \n",
    "import matplotlib.pyplot as plt\n",
    "import seaborn as sns"
   ]
  },
  {
   "cell_type": "code",
   "execution_count": 3,
   "id": "d2284c41",
   "metadata": {},
   "outputs": [],
   "source": [
    "def create_snowpark_session():\n",
    "    \"\"\"\n",
    "    Function to establish a Snowflake session.\n",
    "    Authentication is required and accomplished via web browser where a new tab will be opened \n",
    "    which can be closed after authentication is completed.\n",
    "    NOTE: 'account' and 'user' must be specified & are passed through a YAML config file in this implementation.  \n",
    "    \n",
    "    Parameters:\n",
    "        none\n",
    "    \n",
    "    Returns:\n",
    "        session: a Snowflake session object.\n",
    "    \"\"\"\n",
    "    # open yaml config file containing user, authenticator, etc.\n",
    "    with open('config.yml', 'r') as file:\n",
    "        config = yaml.safe_load(file)\n",
    "    \n",
    "    return Session.builder.configs(config).create()\n",
    "\n",
    "\n",
    "def get_session_info(session):\n",
    "    \"\"\"\n",
    "    Function to printout current Snowflake session information.\n",
    "    \n",
    "    Parameters:\n",
    "        session (Snowflake session object): a Snowflake session object.\n",
    "    \n",
    "    Returns:\n",
    "        None. Prints current session info.\n",
    "    \"\"\"\n",
    "    print(f\"\"\"\n",
    "{'account':<15}{session.get_current_account()}\n",
    "{'role':<15}{session.get_current_role()}\n",
    "{'warehouse':<15}{session.get_current_warehouse()}\n",
    "{'database':<15}{session.get_current_database()}\n",
    "{'schema':<15}{session.get_current_schema()}\n",
    "\"\"\")\n",
    "    \n",
    "    \n",
    "def get_view(session, view, row_lim=1, printSession=True, pandas=True):\n",
    "    \"\"\"\n",
    "    Function to examine chosen VIEW including printing the number of rows found, \n",
    "    while also while printing out current session info if desired.\n",
    "    \n",
    "    Parameters:\n",
    "        session (Snowflake session object): used to establish a connection to the desired Snowflake instance.\n",
    "        view (string): the desired virtual table to examine.\n",
    "        row_lim (integer): The maximum number of rows to return.\n",
    "        printSession (Boolean): Should the current Snowflake session info be printed? [see function get_session_info]\n",
    "    \n",
    "    Returns:\n",
    "        list: results from the Snowflake virtual table query are returned as a list.\n",
    "    \"\"\"\n",
    "    if printSession:\n",
    "        get_session_info(session)\n",
    "    \n",
    "    print(f\"records returned from {view.upper()}: {session.table(view.upper()).count():,}\")\n",
    "    \n",
    "    # for a cleaner DataFrame output\n",
    "    if pandas:\n",
    "        pdf = pd.DataFrame(session.table(view.upper()).select(\"*\").limit(row_lim).collect())\n",
    "        print(pdf.columns)\n",
    "        return pdf\n",
    "\n",
    "    # for standard Snowpark DataFrame output: Row(), Row(), etc.\n",
    "    elif not pandas:\n",
    "        return session.table(view.upper()).select(\"*\").limit(row_lim).collect()\n",
    "   "
   ]
  },
  {
   "cell_type": "markdown",
   "id": "0ffcb5ff",
   "metadata": {},
   "source": [
    "## Establish BELCO_PROD_DNA database connection\n",
    "This is where raw tables are listed"
   ]
  },
  {
   "cell_type": "code",
   "execution_count": 91,
   "id": "349d4f31",
   "metadata": {},
   "outputs": [
    {
     "name": "stdout",
     "output_type": "stream",
     "text": [
      "Initiating login request with your identity provider. A browser window should have opened for you to complete the login. If you can't see it, check existing browser windows, or your OS settings. Press CTRL+C to abort and try again...\n",
      "\n",
      "account        \"otscuso\"\n",
      "role           \"OTS_INNOVATION\"\n",
      "warehouse      \"OTS_INNOVATION_WH\"\n",
      "database       \"BELLCO_PROD_DNA\"\n",
      "schema         \"OSIBANK\"\n",
      "\n"
     ]
    }
   ],
   "source": [
    "# Create the following Snowflake session for the following db views [virtual tables]\n",
    "snow_session = create_snowpark_session()\n",
    "\n",
    "# set database & schema to be used for session\n",
    "snow_session.use_database(\"BELLCO_PROD_DNA\")\n",
    "snow_session.use_schema(\"OSIBANK\")\n",
    "\n",
    "get_session_info(snow_session)"
   ]
  },
  {
   "cell_type": "markdown",
   "id": "f8e0ed62",
   "metadata": {},
   "source": [
    "## Query Open/Closed Accounts Table Created Within Snowflake\n",
    "* Table previously created and filled via files `closed accounts_2.0_written_to_table.ipynb` & `open accounts_written_to_table.ipynb`"
   ]
  },
  {
   "cell_type": "code",
   "execution_count": 92,
   "id": "ea654e5c",
   "metadata": {},
   "outputs": [],
   "source": [
    "%%capture\n",
    "# THE FOLLOWING OUTPUT IS WITHELD DUE TO SENSITIVE Personally identifiable information (PII)\n",
    "\n",
    "oc_accounts_base = snow_session.sql(\"\"\"SELECT * FROM OTS_INNOVATION_DB.JOEL_C.SAMPLE_ACCOUNTS\"\"\")\n",
    "print(oc_accounts_base.count())\n",
    "oc_accounts_base.show()\n",
    "oc_accounts_base.dtypes"
   ]
  },
  {
   "cell_type": "markdown",
   "id": "ca3ee690",
   "metadata": {},
   "source": [
    "### `SAMPLE_ACCOUNTS`\n",
    "This table represents the open and closed accounts population for the given lookback 1/1/2022 - 8/1/2022.\n",
    "* `ACCTNBR` - a given account number for a Bellco member. These can be transactional accounts, loans, etc, but were selected for a minimum of 30-transactions for the lookback period--see `WINDOW_START` & `WINDOW_END` for reference\n",
    "* `ACCT_OPEN` - was the ultimate account disposition open or closed during the lookback period? (0-No, 1-Yes)\n",
    "* `EFFECTIVE_DATE` - this captures when the date an account was initially opened (can predate the lookback period) or the date an account was ultimately closed (occured during the lookback period)\n",
    "* `WINDOW_START` - The starting date of the lookback period\n",
    "* `WINDOW_END` - The ending date of the lookback period\n",
    "    - for closed accounts this end date is modified such that it's 30-days prior to closure to avoid using future data"
   ]
  },
  {
   "cell_type": "markdown",
   "id": "4b5c3c9c",
   "metadata": {},
   "source": [
    "## Get `ACCT` table from Snowflake\n",
    "* Financial databases/tables (including `ACCT`) have been made available within Snowflake and come from Oracle who maintains them)\n",
    "* `ACCT`, the accounts table, will be used as a starting point for many features utilized, in addition to `RTXN` which is the transaction table"
   ]
  },
  {
   "cell_type": "code",
   "execution_count": 7,
   "id": "35a04530",
   "metadata": {},
   "outputs": [],
   "source": [
    "%%capture\n",
    "# THE FOLLOWING OUTPUT IS WITHELD DUE TO SENSITIVE Personally identifiable information (PII)\n",
    "\n",
    "# https://sql.info/d/dateadd-add-or-subtract-from-a-date-column-in-snowflake#:~:text=DATEADD%20%28%29%3A%20Add%20or%20subtract%20from%20a%20date,from%20the%20current%20timestamp%3A%20select%20dateadd%20%28day%2C-7%2Ccurrent_timestamp%20%28%29%29%3B\n",
    "\n",
    "def inner_join_sample_accounts_to_osibank_table(session, cls_lead_days):\n",
    "    \"\"\"Gets 2 tables from 2 different databases w/in Snowflake and inner joins them together.\n",
    "    The 2 tables are our SAMPLE_ACCOUNTS which consists of both open/active accounts\n",
    "    and closed accounts for our lookback period as well as the raw financial ACCT table which is\n",
    "    comprised of all accounts for Bellco CU. The ACCT tables consists of account information \n",
    "    including: .\n",
    "    By joining these tables together we arrive at more detailed information for Bellco accounts which\n",
    "    are found in the open and closed population and are able to perform additional operations/joins.\n",
    "    \n",
    "    returns: session object\n",
    "    \"\"\"\n",
    "    return snow_session.sql(\n",
    "    f\"\"\"\n",
    "    SELECT t1.*, WINDOW_START, ACCT_OPEN,\n",
    "    CASE \n",
    "        WHEN t2.ACCT_OPEN = 0 THEN DATEADD(DAY, -{cls_lead_days}, t2.EFFECTIVE_DATE)\n",
    "        ELSE '2022-08-01' \n",
    "    END AS WINDOW_END_ADJ    -- 'WINDOW_END_ADJ' is the adjusted end window date, factoring in cls_lead_days [30-days] prior to acct closures\n",
    "    FROM\n",
    "        BELLCO_PROD_DNA.OSIBANK.ACCT AS t1\n",
    "    INNER JOIN\n",
    "        OTS_INNOVATION_DB.JOEL_C.SAMPLE_ACCOUNTS AS t2\n",
    "    ON\n",
    "        t1.ACCTNBR = t2.ACCTNBR\n",
    "    \"\"\"\n",
    "    )    \n",
    "\n",
    "\n",
    "oc_accounts = inner_join_sample_accounts_to_osibank_table(snow_session, 30)   # oc_accounts = open or closed accounts\n",
    "oc_accounts.show()\n",
    "\n",
    "# # create a Snowpark DataFrame for finalized results\n",
    "final_df = oc_accounts.to_pandas()\n",
    "final_df"
   ]
  },
  {
   "cell_type": "markdown",
   "id": "080f5ed9",
   "metadata": {},
   "source": [
    "## Create Pandas DataFrame which will serve as finalized/consolidated feature source\n",
    "This DataFrame will have additional columns added to it as features are introduced below.\n",
    "\n",
    "The following 3 features are added:\n",
    "* `trxn_acct` - binary {Y:1, N:0} - is the account in question a type capable of processing transactions? E.g. checking or savings accounts, etc.\n",
    "* `retirement_acct` - binary {Y:1, N:0} - is the account in question a retirement account?\n",
    "* `stmnt_acct` - binary {Y:1, N:0} - does the account in question have associated statements generated?"
   ]
  },
  {
   "cell_type": "code",
   "execution_count": 8,
   "id": "8182879c",
   "metadata": {},
   "outputs": [],
   "source": [
    "%%capture\n",
    "# THE FOLLOWING OUTPUT IS WITHELD DUE TO SENSITIVE Personally identifiable information (PII)\n",
    "\n",
    "final_df = final_df[['ACCTNBR', \n",
    "                     'TRANSACTIONACCTYN', \n",
    "                     'RETIREMENTYN',\n",
    "                     'STMTACCTYN',\n",
    "                     'ACCT_OPEN'\n",
    "                    ]]\n",
    "\n",
    "def map_yes_no(row):\n",
    "    if row == 'N':\n",
    "        return 0\n",
    "    if row == 'Y':\n",
    "        return 1\n",
    "\n",
    "    \n",
    "final_df['TRANSACTIONACCTYN'] = final_df['TRANSACTIONACCTYN'].apply(map_yes_no)\n",
    "final_df['RETIREMENTYN'] = final_df['RETIREMENTYN'].apply(map_yes_no)\n",
    "final_df['STMTACCTYN'] = final_df['STMTACCTYN'].apply(map_yes_no)\n",
    "\n",
    "final_df.rename(columns={\n",
    "    'TRANSACTIONACCTYN': 'trxn_acct', \n",
    "     'RETIREMENTYN': 'retire_acct', \n",
    "     'STMTACCTYN':'stmnt_acct'\n",
    "    }, \n",
    "    inplace=True)\n",
    "\n",
    "final_df"
   ]
  },
  {
   "cell_type": "code",
   "execution_count": 8,
   "id": "6aeb1198",
   "metadata": {},
   "outputs": [
    {
     "name": "stdout",
     "output_type": "stream",
     "text": [
      "0    0.61306\n",
      "1    0.38694\n",
      "Name: trxn_acct, dtype: float64 \n",
      "\n",
      "0    0.992336\n",
      "1    0.007664\n",
      "Name: retire_acct, dtype: float64 \n",
      "\n",
      "1    0.640431\n",
      "0    0.359569\n",
      "Name: stmnt_acct, dtype: float64\n"
     ]
    }
   ],
   "source": [
    "print(final_df['trxn_acct'].value_counts() / len(final_df), '\\n')\n",
    "print(final_df['retire_acct'].value_counts() / len(final_df), '\\n')\n",
    "print(final_df['stmnt_acct'].value_counts() / len(final_df))"
   ]
  },
  {
   "cell_type": "markdown",
   "id": "f8065c69",
   "metadata": {},
   "source": [
    "# Account Metadata Feature Engineering"
   ]
  },
  {
   "cell_type": "markdown",
   "id": "f62c3590",
   "metadata": {},
   "source": [
    "## Account validation\n",
    "`acct_valid` - binary {Y:1, N:0} - Was the account in question ever validated?\n",
    "* the validation method or protocol is unknown to this author, however, is not needed for modeling apart from knowing that validation takes place prior to or at the time of account opening"
   ]
  },
  {
   "cell_type": "code",
   "execution_count": 9,
   "id": "36a3533c",
   "metadata": {},
   "outputs": [
    {
     "name": "stdout",
     "output_type": "stream",
     "text": [
      "-----------------------\n",
      "|\"VALIDYN\"  |\"COUNT\"  |\n",
      "-----------------------\n",
      "|Y          |102074   |\n",
      "|N          |13926    |\n",
      "-----------------------\n",
      "\n"
     ]
    }
   ],
   "source": [
    "oc_accounts = inner_join_sample_accounts_to_osibank_table(snow_session, 30)\n",
    "oc_accounts.group_by(col('VALIDYN')).count().order_by('count', ascending=False).show()"
   ]
  },
  {
   "cell_type": "code",
   "execution_count": 9,
   "id": "d3668cd4",
   "metadata": {},
   "outputs": [
    {
     "data": {
      "text/plain": [
       "Y    0.885758\n",
       "N    0.114242\n",
       "Name: VALIDYN, dtype: float64"
      ]
     },
     "execution_count": 9,
     "metadata": {},
     "output_type": "execute_result"
    }
   ],
   "source": [
    "df_acct_validyn = oc_accounts.to_pandas()\n",
    "df_acct_validyn['VALIDYN'].value_counts(dropna=False) / len(df_acct_validyn)"
   ]
  },
  {
   "cell_type": "code",
   "execution_count": 11,
   "id": "1a98c374",
   "metadata": {},
   "outputs": [
    {
     "data": {
      "text/plain": [
       "count     301456\n",
       "unique         2\n",
       "top            Y\n",
       "freq      267017\n",
       "Name: VALIDYN, dtype: object"
      ]
     },
     "metadata": {},
     "output_type": "display_data"
    }
   ],
   "source": [
    "display(df_acct_validyn['VALIDYN'].describe())\n",
    "df_acct_validyn.rename(columns={'VALIDYN': 'acct_valid'}, inplace=True)"
   ]
  },
  {
   "cell_type": "markdown",
   "id": "cb88d99e",
   "metadata": {},
   "source": [
    "### Convert Y/N to 1/0"
   ]
  },
  {
   "cell_type": "code",
   "execution_count": 12,
   "id": "63a7828f",
   "metadata": {},
   "outputs": [],
   "source": [
    "%%capture\n",
    "# THE FOLLOWING OUTPUT IS WITHELD DUE TO SENSITIVE Personally identifiable information (PII)\n",
    "\n",
    "df_acct_validyn['acct_valid'] = df_acct_validyn['acct_valid'].map({'Y': 1, 'N': 0})\n",
    "df_acct_validyn = df_acct_validyn[['ACCTNBR', 'acct_valid']]\n",
    "\n",
    "pd.merge(final_df, df_acct_validyn, left_on='ACCTNBR', right_on='ACCTNBR', how='left')"
   ]
  },
  {
   "cell_type": "markdown",
   "id": "29a1c68a",
   "metadata": {},
   "source": [
    "## Account Roles\n",
    "`num_acct_roles` - counting number/continuous {1:16} - the number of roles related to number of people w/ account access, including mbrs, but also employees or other\n",
    "* The computer system logic/implementation for establishing new roles is unknown to this author. This column is meant to capture significant deviation from the computer system implementation norm, where the baseline/norm is established through thousands of accounts in our lookback population.\n",
    "* Only 73% of accounts in our lookback population have captured account roles. We will impute missing values by using the median of known account role counts."
   ]
  },
  {
   "cell_type": "code",
   "execution_count": 13,
   "id": "ece86f50",
   "metadata": {},
   "outputs": [],
   "source": [
    "%%capture\n",
    "# THE FOLLOWING OUTPUT IS WITHELD DUE TO SENSITIVE Personally identifiable information (PII)\n",
    "\n",
    "oc_accounts = inner_join_sample_accounts_to_osibank_table(snow_session, 30)\n",
    "\n",
    "sdf_acctroles = (\n",
    "    oc_accounts\n",
    "    .join(\n",
    "        snow_session.table('ACCTACCTROLEPERS'),\n",
    "        on='ACCTNBR',\n",
    "        how='inner',\n",
    "        rsuffix='_'\n",
    "    )\n",
    "    .join(\n",
    "        snow_session.table('ACCTROLE'),\n",
    "        on='ACCTROLECD',\n",
    "        how='inner',\n",
    "        rsuffix='_'\n",
    "    )\n",
    "    .filter(\n",
    "        f.to_date('EFFDATE') < col('WINDOW_END_ADJ')    # while there is an INACTIVEDATE column it is rarely used, evidently\n",
    "    )\n",
    "    .select('ACCTNBR', 'ACCTROLEDESC')\n",
    ")\n",
    "\n",
    "print(sdf_acctroles.count())\n",
    "print(\n",
    "    f\"{sdf_acctroles.group_by(col('ACCTNBR')).count().sort('count', ascending=False).count()/oc_accounts.count():.2%} of accounts have documented roles\"\n",
    ")\n",
    "sdf_acctroles.group_by(col('ACCTNBR')).count().sort('count', ascending=False).show(10)\n",
    "sdf_acctroles.group_by(col('ACCTNBR')).count().sort('count', ascending=False).group_by('COUNT').count().show(20)"
   ]
  },
  {
   "cell_type": "code",
   "execution_count": 14,
   "id": "02ee7e9c",
   "metadata": {},
   "outputs": [],
   "source": [
    "%%capture\n",
    "# THE FOLLOWING OUTPUT IS WITHELD DUE TO SENSITIVE Personally identifiable information (PII)\n",
    "\n",
    "df_acctroles = sdf_acctroles.to_pandas()"
   ]
  },
  {
   "cell_type": "code",
   "execution_count": 15,
   "id": "1bb0c028",
   "metadata": {},
   "outputs": [],
   "source": [
    "%%capture\n",
    "# THE FOLLOWING OUTPUT IS WITHELD DUE TO SENSITIVE Personally identifiable information (PII)\n",
    "\n",
    "df_acctroles_count = sdf_acctroles.group_by(col('ACCTNBR')).count().sort('count', ascending=False).to_pandas()\n",
    "df_acctroles_count.head()"
   ]
  },
  {
   "cell_type": "code",
   "execution_count": 16,
   "id": "3638af0b",
   "metadata": {},
   "outputs": [],
   "source": [
    "%%capture\n",
    "# THE FOLLOWING OUTPUT IS WITHELD DUE TO SENSITIVE Personally identifiable information (PII)\n",
    "\n",
    "df_acctroles_count.rename(columns={'COUNT': 'num_acct_roles'}, inplace=True)\n",
    "final_df = pd.merge(final_df, df_acctroles_count, left_on='ACCTNBR', right_on='ACCTNBR', how='left')\n",
    "final_df['num_acct_roles'] = final_df['num_acct_roles'].fillna(final_df['num_acct_roles'].median())\n",
    "final_df['num_acct_roles'] = final_df['num_acct_roles'].astype('int')\n",
    "final_df"
   ]
  },
  {
   "cell_type": "code",
   "execution_count": 17,
   "id": "54206b66",
   "metadata": {},
   "outputs": [
    {
     "data": {
      "text/plain": [
       "count    116000.000000\n",
       "mean          2.185138\n",
       "std           1.116727\n",
       "min           1.000000\n",
       "25%           1.000000\n",
       "50%           2.000000\n",
       "75%           3.000000\n",
       "max          16.000000\n",
       "Name: num_acct_roles, dtype: float64"
      ]
     },
     "metadata": {},
     "output_type": "display_data"
    },
    {
     "name": "stdout",
     "output_type": "stream",
     "text": [
      "2.0\n"
     ]
    },
    {
     "data": {
      "image/png": "[encoded data removed]",
      "text/plain": [
       "<Figure size 640x480 with 1 Axes>"
      ]
     },
     "metadata": {},
     "output_type": "display_data"
    }
   ],
   "source": [
    "display(final_df['num_acct_roles'].describe())\n",
    "print(df_acctroles_count['num_acct_roles'].median())\n",
    "sns.histplot(data=final_df, x='num_acct_roles');"
   ]
  },
  {
   "cell_type": "markdown",
   "id": "ea45a716",
   "metadata": {},
   "source": [
    "## ACTV - account activity\n",
    "## Account Longevity\n",
    "`days_active` - continuous {days} - how long has it been since the account was opened?\n",
    "* `ACCT.CONTRACTDATE` & `WINDOW_END` are used to determine how long the account has been open\n",
    "    - `CONTRACTDATE` is assumed to mean when the account contract documentation was signed & the account would be opened same-day or sometime after\n",
    "    - ~1600 accounts show a contract date which occurs after our lookback window ends (i.e. after their account was closed) if we use `WINDOW_END_ADJ`.  This happens because we are trying not to use future data for our model -- 30-days prior to account closure means only data up to 30-days prior to an account being used. Unfortunately this also means that we will capture a negative account age in some cases as we set our account closure to 30-days before an account actually closes.\n",
    "        * negative days should be avoided by relying on `WINDOW_END`"
   ]
  },
  {
   "cell_type": "code",
   "execution_count": 17,
   "id": "b97968b7",
   "metadata": {},
   "outputs": [],
   "source": [
    "%%capture\n",
    "# THE FOLLOWING OUTPUT IS WITHELD DUE TO SENSITIVE Personally identifiable information (PII)\n",
    "\n",
    "oc_accounts = inner_join_sample_accounts_to_osibank_table(snow_session, 30)\n",
    "\n",
    "sdf_acct_age = (\n",
    "    oc_accounts\n",
    "    .select('ACCTNBR', f.to_date('CONTRACTDATE').alias('CONTRACTDATE'), 'WINDOW_END_ADJ')\n",
    "    .with_column(\n",
    "        \"acct_age_days\", \n",
    "        f.expr(\"datediff(day, CONTRACTDATE, '2022-08-01')\") \n",
    "        # datediff('day', col('CONTRACTDATE'), '8/1/2022')  # fixed date not accepted\n",
    "    )\n",
    "    .select('ACCTNBR', 'ACCT_AGE_DAYS')\n",
    ")\n",
    "  \n",
    "print(sdf_acct_age.count())\n",
    "sdf_acct_age.show()\n",
    "print(\"number of lookback accounts missing 'CONTRACTDATE':\", sdf_acct_age.filter(f.is_null(col('ACCT_AGE_DAYS'))).count())"
   ]
  },
  {
   "cell_type": "code",
   "execution_count": 18,
   "id": "dda4bcfc",
   "metadata": {},
   "outputs": [],
   "source": [
    "%%capture\n",
    "# THE FOLLOWING OUTPUT IS WITHELD DUE TO SENSITIVE Personally identifiable information (PII)\n",
    "\n",
    "df_acct_age = sdf_acct_age.to_pandas()\n",
    "final_df = pd.merge(final_df, df_acct_age, left_on='ACCTNBR', right_on='ACCTNBR', how='left')\n",
    "\n",
    "# There are numerous accounts which span decades & therefore we use the median to avoid influence from extreme outliers\n",
    "final_df['ACCT_AGE_DAYS'] = final_df['ACCT_AGE_DAYS'].fillna(final_df['ACCT_AGE_DAYS'].median())\n",
    "final_df['ACCT_AGE_DAYS'] = final_df['ACCT_AGE_DAYS'].astype('int')\n",
    "final_df"
   ]
  },
  {
   "cell_type": "code",
   "execution_count": 33,
   "id": "a08de519",
   "metadata": {},
   "outputs": [
    {
     "data": {
      "text/plain": [
       "count    116000.000000\n",
       "mean       3113.006069\n",
       "std        3312.162235\n",
       "min           0.000000\n",
       "25%         965.000000\n",
       "50%        1918.000000\n",
       "75%        3847.000000\n",
       "max       20332.000000\n",
       "Name: ACCT_AGE_DAYS, dtype: float64"
      ]
     },
     "metadata": {},
     "output_type": "display_data"
    },
    {
     "name": "stdout",
     "output_type": "stream",
     "text": [
      "1918.0\n"
     ]
    },
    {
     "data": {
      "image/png": "[encoded data removed]",
      "text/plain": [
       "<Figure size 640x480 with 1 Axes>"
      ]
     },
     "metadata": {},
     "output_type": "display_data"
    }
   ],
   "source": [
    "display(final_df['ACCT_AGE_DAYS'].describe())\n",
    "print(final_df['ACCT_AGE_DAYS'].median())\n",
    "sns.histplot(data=df_acct_age, x='ACCT_AGE_DAYS');\n",
    "plt.grid(axis='y')"
   ]
  },
  {
   "cell_type": "code",
   "execution_count": 34,
   "id": "bddddefa",
   "metadata": {},
   "outputs": [
    {
     "data": {
      "image/png": "[encoded data removed]",
      "text/plain": [
       "<Figure size 640x480 with 1 Axes>"
      ]
     },
     "metadata": {},
     "output_type": "display_data"
    }
   ],
   "source": [
    "sns.boxplot(final_df['ACCT_AGE_DAYS'], width=0.25, dodge=True);\n",
    "plt.grid(axis='y')"
   ]
  },
  {
   "cell_type": "markdown",
   "id": "6d71bb2a",
   "metadata": {},
   "source": [
    "## Total number of accounts for primary account holder during lookback period\n",
    "* incomplete data - unable to use"
   ]
  },
  {
   "cell_type": "code",
   "execution_count": 93,
   "id": "c65172d2",
   "metadata": {},
   "outputs": [
    {
     "name": "stdout",
     "output_type": "stream",
     "text": [
      "101212\n"
     ]
    }
   ],
   "source": [
    "oc_accounts = inner_join_sample_accounts_to_osibank_table(snow_session, 30)\n",
    "\n",
    "sdf_prim_own_num_accts = (\n",
    "    oc_accounts\n",
    "    .join(\n",
    "        snow_session.table('acctacctrolepers'),\n",
    "        on=oc_accounts['TAXRPTFORPERSNBR']==snow_session.table('pers')['persnbr'],\n",
    "        how='inner',\n",
    "        rsuffix='_'\n",
    "    )\n",
    "    .filter(\n",
    "        (f.to_date('EFFDATE') < col('WINDOW_END_ADJ'))   # 'INACTIVEDATE' appears to not be used frequently\n",
    "    )\n",
    "    .select('PERSNBR', 'ACCTNBR')\n",
    ")\n",
    "\n",
    "print(sdf_prim_own_num_accts.distinct().sort('ACCTNBR').count())\n",
    "# sdf_prim_own_num_accts.distinct().sort('PERSNBR').show()\n",
    "\n",
    "# Determine the number of accounts per person\n",
    "# sdf_prim_own_num_accts.distinct().group_by('PERSNBR').count().sort('COUNT', ascending=False).show()"
   ]
  },
  {
   "cell_type": "code",
   "execution_count": 22,
   "id": "27d61106",
   "metadata": {},
   "outputs": [
    {
     "name": "stdout",
     "output_type": "stream",
     "text": [
      "-------------------------------\n",
      "|\"MEDIAN(\"\"ACCT_PER_PERS\"\")\"  |\n",
      "-------------------------------\n",
      "|2.000                        |\n",
      "-------------------------------\n",
      "\n",
      "----------------------------------\n",
      "|\"SUMMARY\"  |\"ACCT_PER_PERS\"     |\n",
      "----------------------------------\n",
      "|mean       |2.374007            |\n",
      "|max        |36.0                |\n",
      "|count      |127789.0            |\n",
      "|stddev     |1.7269394893857746  |\n",
      "|min        |1.0                 |\n",
      "----------------------------------\n",
      "\n"
     ]
    }
   ],
   "source": [
    "# join number of accounts per person back to accounts table via the recorded primary account holder captured\n",
    "df_num_acct_per_pers = sdf_prim_own_num_accts.distinct().group_by('PERSNBR').count()\n",
    "\n",
    "sdf_acct_persn = (\n",
    "    oc_accounts\n",
    "    .join(\n",
    "        df_num_acct_per_pers,\n",
    "        on=oc_accounts['TAXRPTFORPERSNBR']==df_num_acct_per_pers['persnbr'],\n",
    "        how='inner',\n",
    "        rsuffix='_'\n",
    "    )\n",
    "    .select('ACCTNBR', col('COUNT').alias('acct_per_pers'))\n",
    ")\n",
    "\n",
    "# sdf_acct_persn.show()\n",
    "sdf_acct_persn.select(f.median('ACCT_PER_PERS')).show()\n",
    "sdf_acct_persn.select('ACCT_PER_PERS').describe().show()"
   ]
  },
  {
   "cell_type": "code",
   "execution_count": 37,
   "id": "16c715fb",
   "metadata": {},
   "outputs": [
    {
     "data": {
      "text/plain": [
       "NaN     72813\n",
       "1.0     22787\n",
       "2.0     11030\n",
       "3.0      4981\n",
       "4.0      2152\n",
       "5.0       926\n",
       "6.0       546\n",
       "7.0       245\n",
       "8.0       160\n",
       "10.0      100\n",
       "9.0        45\n",
       "13.0       39\n",
       "19.0       38\n",
       "35.0       35\n",
       "11.0       33\n",
       "15.0       30\n",
       "14.0       28\n",
       "12.0       12\n",
       "Name: ACCT_PER_PERS, dtype: int64"
      ]
     },
     "execution_count": 37,
     "metadata": {},
     "output_type": "execute_result"
    }
   ],
   "source": [
    "# UNFORUNATELY, 63% of 'acct_per_pers' values are missing for respective accounts -- we cannot use this feature\n",
    "df_acct_persn = sdf_acct_persn.to_pandas()\n",
    "pd.merge(final_df, df_acct_persn, left_on='ACCTNBR', right_on='ACCTNBR', how='left')['ACCT_PER_PERS'].value_counts(dropna=False)"
   ]
  },
  {
   "cell_type": "markdown",
   "id": "8359ebbe",
   "metadata": {},
   "source": [
    "## NSF\n",
    "`nsf_fees` - binary {Y:1, N:0} - were there at least 1 non-sufficient funds fee assessed during the lookback period?\n",
    "* While we find that while not every mbr has NSF issues some of the mbrs that do, have *many* non-sufficient fund fees\n",
    "* ~10% of mbrs had NSF fees during the lookback period"
   ]
  },
  {
   "cell_type": "code",
   "execution_count": 23,
   "id": "70fe0899",
   "metadata": {},
   "outputs": [
    {
     "name": "stdout",
     "output_type": "stream",
     "text": [
      "Total NSF Fees: 51355\n",
      "Number Mbr Accounts w/ NSF Fees: 20411\n",
      "Avg NSF fees per accounts which have them: 2.5160452697075106\n"
     ]
    }
   ],
   "source": [
    "sdf_stat_nsf = (\n",
    "    oc_accounts\n",
    "    .join(\n",
    "        snow_session.table('acctstatistichist'),\n",
    "        on='acctnbr',\n",
    "        how='inner',\n",
    "        rsuffix='_'\n",
    "    )\n",
    "    .join(\n",
    "        snow_session.table('Statistictyp'),\n",
    "        on='STATISTICTYPCD',\n",
    "        how='inner',\n",
    "        rsuffix='_'\n",
    "    )\n",
    "    .select('ACCTNBR', 'STATISTICTYPDESC')\n",
    "    .filter(\n",
    "        (col('STATISTICTYPDESC') == 'Insufficient Funds Totals') & \n",
    "        (col('YEARNBR') == 2022) & \n",
    "        (col('MONTHCD') >= 1) & \n",
    "        (col('MONTHCD') < f.date_part('month', col('WINDOW_END_ADJ')))  \n",
    "    )\n",
    ")\n",
    "# NOTE: we may have up to an extra 30-days [forecasting], however, accuracy is to the month-level \n",
    "# better to have than not\n",
    "\n",
    "print('Total NSF Fees:', sdf_stat_nsf.count())\n",
    "print('Number Mbr Accounts w/ NSF Fees:', sdf_stat_nsf.distinct().count())\n",
    "print(f\"Avg NSF fees per accounts which have them: {sdf_stat_nsf.count()/sdf_stat_nsf.distinct().count()}\")\n",
    "\n",
    "# sdf_stat_nsf.sort('ACCTNBR').show()"
   ]
  },
  {
   "cell_type": "code",
   "execution_count": 24,
   "id": "608dd455",
   "metadata": {},
   "outputs": [],
   "source": [
    "%%capture\n",
    "# THE FOLLOWING OUTPUT IS WITHELD DUE TO SENSITIVE Personally identifiable information (PII)\n",
    "\n",
    "df_stat_nsf = sdf_stat_nsf.distinct().to_pandas()\n",
    "\n",
    "def map_nsf_fees(row):\n",
    "    if ['STATISTICTYPDESC'] is not None:\n",
    "        return 1\n",
    "    \n",
    "df_stat_nsf['nsf_fees'] = df_stat_nsf['STATISTICTYPDESC'].apply(map_nsf_fees)\n",
    "df_stat_nsf = df_stat_nsf[['ACCTNBR', 'nsf_fees']]\n",
    "df_stat_nsf.head()"
   ]
  },
  {
   "cell_type": "code",
   "execution_count": 25,
   "id": "c0034e7c",
   "metadata": {},
   "outputs": [],
   "source": [
    "%%capture\n",
    "# THE FOLLOWING OUTPUT IS WITHELD DUE TO SENSITIVE Personally identifiable information (PII)\n",
    "\n",
    "final_df = pd.merge(final_df, df_stat_nsf, left_on='ACCTNBR', right_on='ACCTNBR', how='left')\n",
    "final_df['nsf_fees'].fillna(0, inplace=True)\n",
    "final_df['nsf_fees'] = final_df['nsf_fees'].astype('int')\n",
    "final_df"
   ]
  },
  {
   "cell_type": "markdown",
   "id": "5ea904ea",
   "metadata": {},
   "source": [
    "## Uncollected Funds\n",
    "`uncollected_funds` - binary {Y:1, N:0} - were there uncollected funds under a given account during the lookback period?"
   ]
  },
  {
   "cell_type": "code",
   "execution_count": 26,
   "id": "d8e35ba6",
   "metadata": {},
   "outputs": [
    {
     "name": "stdout",
     "output_type": "stream",
     "text": [
      "Total : 93\n",
      "Number Mbr Accounts w/: 72\n",
      "Avg per accounts which have them: 1.2916666666666667\n"
     ]
    }
   ],
   "source": [
    "sdf_stat_uncollected = (\n",
    "    oc_accounts\n",
    "    .join(\n",
    "        snow_session.table('acctstatistichist'),\n",
    "        on='acctnbr',\n",
    "        how='inner',\n",
    "        rsuffix='_'\n",
    "    )\n",
    "    .join(\n",
    "        snow_session.table('Statistictyp'),\n",
    "        on='STATISTICTYPCD',\n",
    "        how='inner',\n",
    "        rsuffix='_'\n",
    "    )\n",
    "    .select('ACCTNBR', 'STATISTICTYPDESC')\n",
    "    .filter(\n",
    "        (col('STATISTICTYPDESC') == 'Uncollected Funds Totals') & \n",
    "        (col('YEARNBR') == 2022) & \n",
    "        (col('MONTHCD') >= 1) & \n",
    "        (col('MONTHCD') < f.date_part('month', col('WINDOW_END_ADJ')))  \n",
    "    )\n",
    ")\n",
    "# NOTE: we may have up to an extra 30-days [forecasting], however, accuracy is to the month-level \n",
    "# better to have than not\n",
    "\n",
    "print('Total :', sdf_stat_uncollected.count())\n",
    "print('Number Mbr Accounts w/:', sdf_stat_uncollected.distinct().count())\n",
    "print(f\"Avg per accounts which have them: {sdf_stat_uncollected.count()/sdf_stat_uncollected.distinct().count()}\")\n",
    "\n",
    "# sdf_stat_uncollected.sort('ACCTNBR').show()"
   ]
  },
  {
   "cell_type": "code",
   "execution_count": 28,
   "id": "6e0563b1",
   "metadata": {},
   "outputs": [],
   "source": [
    "df_stat_uncollected = sdf_stat_uncollected.distinct().to_pandas()\n",
    "\n",
    "def map_uncollected_funds(row):\n",
    "    if ['STATISTICTYPDESC'] is not None:\n",
    "        return 1\n",
    "    \n",
    "df_stat_uncollected['uncollected_funds'] = df_stat_uncollected['STATISTICTYPDESC'].apply(map_uncollected_funds)\n",
    "df_stat_uncollected = df_stat_uncollected[['ACCTNBR', 'uncollected_funds']]"
   ]
  },
  {
   "cell_type": "code",
   "execution_count": 29,
   "id": "ca51b8d0",
   "metadata": {},
   "outputs": [],
   "source": [
    "%%capture\n",
    "# THE FOLLOWING OUTPUT IS WITHELD DUE TO SENSITIVE Personally identifiable information (PII)\n",
    "\n",
    "final_df = pd.merge(final_df, df_stat_uncollected, left_on='ACCTNBR', right_on='ACCTNBR', how='left')\n",
    "final_df['uncollected_funds'].fillna(0, inplace=True)\n",
    "final_df['uncollected_funds'] = final_df['uncollected_funds'].astype('int')\n",
    "final_df"
   ]
  },
  {
   "cell_type": "markdown",
   "id": "4912ef2f",
   "metadata": {},
   "source": [
    "## ATM Withdrawals\n",
    "`atm_withdr` - binary {Y:1, N:0} - were there ATM withdrawals for a given account during the lookback period?"
   ]
  },
  {
   "cell_type": "code",
   "execution_count": 30,
   "id": "2a9f66f4",
   "metadata": {},
   "outputs": [
    {
     "name": "stdout",
     "output_type": "stream",
     "text": [
      "Total : 356062\n",
      "Number Mbr Accounts w/: 80289\n",
      "Avg per accounts which have them: 4.434754449550997\n"
     ]
    }
   ],
   "source": [
    "sdf_stat_atm = (\n",
    "    oc_accounts\n",
    "    .join(\n",
    "        snow_session.table('acctstatistichist'),\n",
    "        on='acctnbr',\n",
    "        how='inner',\n",
    "        rsuffix='_'\n",
    "    )\n",
    "    .join(\n",
    "        snow_session.table('Statistictyp'),\n",
    "        on='STATISTICTYPCD',\n",
    "        how='inner',\n",
    "        rsuffix='_'\n",
    "    )\n",
    "    .select('ACCTNBR', 'STATISTICTYPDESC')\n",
    "    .filter(\n",
    "        (col('STATISTICTYPDESC') == 'Total ATM Withdrawals') & \n",
    "        (col('YEARNBR') == 2022) & \n",
    "        (col('MONTHCD') >= 1) & \n",
    "        (col('MONTHCD') < f.date_part('month', col('WINDOW_END_ADJ')))  \n",
    "    )\n",
    ")\n",
    "# NOTE: we may have up to an extra 30-days [forecasting], however, accuracy is to the month-level \n",
    "# better to have than not\n",
    "\n",
    "print('Total :', sdf_stat_atm.count())\n",
    "print('Number Mbr Accounts w/:', sdf_stat_atm.distinct().count())\n",
    "print(f\"Avg per accounts which have them: {sdf_stat_atm.count()/sdf_stat_atm.distinct().count()}\")\n",
    "\n",
    "# sdf_stat_atm.sort('ACCTNBR').show()"
   ]
  },
  {
   "cell_type": "code",
   "execution_count": 31,
   "id": "711e80d4",
   "metadata": {},
   "outputs": [],
   "source": [
    "df_stat_atm = sdf_stat_atm.distinct().to_pandas()\n",
    "\n",
    "def map_atm(row):\n",
    "    if ['STATISTICTYPDESC'] is not None:\n",
    "        return 1\n",
    "    \n",
    "df_stat_atm['atm_withdr'] = df_stat_atm['STATISTICTYPDESC'].apply(map_atm)\n",
    "df_stat_atm = df_stat_atm[['ACCTNBR', 'atm_withdr']]"
   ]
  },
  {
   "cell_type": "code",
   "execution_count": 32,
   "id": "d0e73b00",
   "metadata": {},
   "outputs": [],
   "source": [
    "final_df = pd.merge(final_df, df_stat_atm, left_on='ACCTNBR', right_on='ACCTNBR', how='left')\n",
    "final_df['atm_withdr'].fillna(0, inplace=True)\n",
    "final_df['atm_withdr'] = final_df['atm_withdr'].astype('int')\n",
    "# final_df"
   ]
  },
  {
   "cell_type": "markdown",
   "id": "092eb9f4",
   "metadata": {},
   "source": [
    "## Account Past Due?\n",
    "`past_due` - binary {Y:1, N:0} - was the account past due for payment(s) during the lookback period?"
   ]
  },
  {
   "cell_type": "code",
   "execution_count": 33,
   "id": "9347f73e",
   "metadata": {},
   "outputs": [
    {
     "name": "stdout",
     "output_type": "stream",
     "text": [
      "Total : 12411\n",
      "Number Mbr Accounts w/: 4290\n",
      "Avg per accounts which have them: 2.893006993006993\n"
     ]
    }
   ],
   "source": [
    "sdf_stat_pastdue = (\n",
    "    oc_accounts\n",
    "    .join(\n",
    "        snow_session.table('acctstatistichist'),\n",
    "        on='acctnbr',\n",
    "        how='inner',\n",
    "        rsuffix='_'\n",
    "    )\n",
    "    .join(\n",
    "        snow_session.table('Statistictyp'),\n",
    "        on='STATISTICTYPCD',\n",
    "        how='inner',\n",
    "        rsuffix='_'\n",
    "    )\n",
    "    .select('ACCTNBR', 'STATISTICTYPDESC')\n",
    "    .filter(\n",
    "        (col('STATISTICTYPDESC') == 'Past Due') & \n",
    "        (col('YEARNBR') == 2022) & \n",
    "        (col('MONTHCD') >= 1) & \n",
    "        (col('MONTHCD') < f.date_part('month', col('WINDOW_END_ADJ')))  \n",
    "    )\n",
    ")\n",
    "# NOTE: we may have up to an extra 30-days [forecasting], however, accuracy is to the month-level \n",
    "# better to have than not\n",
    "\n",
    "print('Total :', sdf_stat_pastdue.count())\n",
    "print('Number Mbr Accounts w/:', sdf_stat_pastdue.distinct().count())\n",
    "print(f\"Avg per accounts which have them: {sdf_stat_pastdue.count()/sdf_stat_pastdue.distinct().count()}\")\n",
    "\n",
    "# sdf_stat_pastdue.sort('ACCTNBR').show()"
   ]
  },
  {
   "cell_type": "code",
   "execution_count": 34,
   "id": "f6ff04fe",
   "metadata": {},
   "outputs": [],
   "source": [
    "df_stat_pastdue = sdf_stat_pastdue.distinct().to_pandas()\n",
    "\n",
    "def map_pastdue(row):\n",
    "    if ['STATISTICTYPDESC'] is not None:\n",
    "        return 1\n",
    "    \n",
    "df_stat_pastdue['past_due'] = df_stat_pastdue['STATISTICTYPDESC'].apply(map_pastdue)\n",
    "df_stat_pastdue = df_stat_pastdue[['ACCTNBR', 'past_due']]"
   ]
  },
  {
   "cell_type": "code",
   "execution_count": 35,
   "id": "2c42a26a",
   "metadata": {},
   "outputs": [],
   "source": [
    "final_df = pd.merge(final_df, df_stat_pastdue, left_on='ACCTNBR', right_on='ACCTNBR', how='left')\n",
    "final_df['past_due'].fillna(0, inplace=True)\n",
    "final_df['past_due'] = final_df['past_due'].astype('int')\n",
    "# final_df"
   ]
  },
  {
   "cell_type": "markdown",
   "id": "ced7f683",
   "metadata": {},
   "source": [
    "## Account Available Amount History\n",
    "This feature provides us with available account amounts throughout the lookback period for each respective account located.\n",
    "* ~ half of accounts have an entry within the `acctavailamthist` table for our lookback period -- **we forego this feature**\n",
    "\n",
    "* Account available amount represents the **available amount someone has within their account to withdrawal**\n",
    "* We must filter our results using the column `ACCTAVAILAMTHIST.EFFDATE` to determine account available amounts which occured during the lookback period, only.\n",
    "    - `EFFDATE` is the date that the account available amount became effective, representing the result of transactional activity on said account\n",
    "* We perform aggregation on the available amount to arrive at a value representing the average account available amount\n",
    "    - the average is not robust to outliers which is desired in this case as extremes in either direction can help cue us in on overall account activity\n",
    "    - Minimum account available amount is an alternative aggregation measure to be used for the lookback period\n",
    "* We find that there are not entries (available amount updates) for every account within the lookback account which indicates an account available amount may not have changed during the lookback period"
   ]
  },
  {
   "cell_type": "code",
   "execution_count": 36,
   "id": "72691bb6",
   "metadata": {
    "scrolled": true
   },
   "outputs": [
    {
     "name": "stdout",
     "output_type": "stream",
     "text": [
      "51.10% of accounts have an availamt for the lookback period\n"
     ]
    }
   ],
   "source": [
    "# average should exclude 30 days leading up to closure date, for closed accounts\n",
    "# don't give model glimpse into future\n",
    "\n",
    "oc_accounts = inner_join_sample_accounts_to_osibank_table(snow_session, 30)\n",
    "\n",
    "sdf_acctavailamthist = (\n",
    "    oc_accounts\n",
    ".join(\n",
    "    snow_session.table('acctavailamthist'),\n",
    "    on='ACCTNBR',\n",
    "    how='inner',\n",
    "    rsuffix='_'\n",
    ").filter(   # use an additional 90-day window prior to start to capture more values: only ~1.2K more values added\n",
    "    (f.to_date('EFFDATE') >= '9/30/2021') & (f.to_date('EFFDATE') < col('WINDOW_END_ADJ'))   \n",
    ").group_by(\n",
    "    'ACCTNBR'\n",
    ").agg(f.avg('AVAILAMT').alias('avg_availamt')   # can also use median, sum, stddev\n",
    ")\n",
    ")\n",
    "\n",
    "print(f\"{sdf_acctavailamthist.count()/oc_accounts.count():.2%} of accounts have an availamt for the lookback period\")\n",
    "# sdf_acctavailamthist.show()\n",
    "df_acctavailamthist_avg = sdf_acctavailamthist.to_pandas()"
   ]
  },
  {
   "cell_type": "markdown",
   "id": "59a7f967",
   "metadata": {},
   "source": [
    "## Account Balance History\n",
    "`AVG_ACCT_BAL` - continuous ($) - This feature provides us with the account balance throughout the lookback period for each respective account located and the median for any missing accounts.\n",
    "\n",
    "* Account balance represents the balance (dollar amount) someone has on their account\n",
    "* We must filter our results using the column `ACCTBALHIST.EFFDATE` to determine account available amounts which occured during the lookback period, only.\n",
    "    - `EFFDATE` is the date that the account balance changed, representing the result of transactional activity on said account\n",
    "    - we use a 90-day window here as we are aggregating and wish to avoid missing peripheral activity; however we leave the 30-day closure lead time without change\n",
    "* We perform aggregation on the available amount to arrive at a value representing the average account available amount\n",
    "    - the average is not robust to outliers which is desired in this case as extremes in either direction can help cue us in on overall account activity\n",
    "    - Minimum account available amount is a suitable alternative aggregation measure to be used for the lookback period in this case\n",
    "* We find that there are not entries (available amount updates) for every account within the lookback account which indicates an account available amount may not have changed during the lookback period"
   ]
  },
  {
   "cell_type": "code",
   "execution_count": 37,
   "id": "ab7d4ac2",
   "metadata": {},
   "outputs": [
    {
     "name": "stdout",
     "output_type": "stream",
     "text": [
      "68.24% of accounts have an acctbalhist for the lookback period + 3-months\n",
      "205726\n"
     ]
    }
   ],
   "source": [
    "oc_accounts = inner_join_sample_accounts_to_osibank_table(snow_session, 30)\n",
    "\n",
    "sdf_acctbalhist = (\n",
    "    oc_accounts\n",
    "    .join(\n",
    "        snow_session.table('acctbalhist'.upper()),\n",
    "        on='ACCTNBR',\n",
    "        how='inner',\n",
    "        rsuffix='_'\n",
    "    )\n",
    "    .filter(   # by expanding our start window to 90-days (3-months) prior we capture an additional 8.3K values\n",
    "        (f.to_date('EFFDATE') >= '9/30/2021') & (f.to_date('EFFDATE') < col('WINDOW_END_ADJ'))\n",
    "    )\n",
    "    .group_by('ACCTNBR').agg(f.avg('balamt').alias('avg_acct_bal')   # can also use median, sum, stddev\n",
    "    )\n",
    ")\n",
    "\n",
    "print(f\"{sdf_acctbalhist.count()/oc_accounts.count():.2%} of accounts have an acctbalhist for the lookback period + 3-months\")\n",
    "print(sdf_acctbalhist.count())\n",
    "# sdf_acctbalhist.show()"
   ]
  },
  {
   "cell_type": "code",
   "execution_count": 38,
   "id": "806a4bc9",
   "metadata": {},
   "outputs": [
    {
     "data": {
      "text/plain": [
       "ACCTNBR              0\n",
       "trxn_acct            0\n",
       "retire_acct          0\n",
       "stmnt_acct           0\n",
       "ACCT_OPEN            0\n",
       "num_acct_roles       0\n",
       "ACCT_AGE_DAYS        0\n",
       "nsf_fees             0\n",
       "uncollected_funds    0\n",
       "atm_withdr           0\n",
       "past_due             0\n",
       "AVG_ACCT_BAL         0\n",
       "dtype: int64"
      ]
     },
     "metadata": {},
     "output_type": "display_data"
    }
   ],
   "source": [
    "df_acctbalhist = sdf_acctbalhist.to_pandas()\n",
    "final_df = pd.merge(final_df, df_acctbalhist, on='ACCTNBR', how='left')\n",
    "final_df['AVG_ACCT_BAL'] = final_df['AVG_ACCT_BAL'].fillna(final_df['AVG_ACCT_BAL'].median())  # use the median of average account balance for those accounts missing this value for the lookback period\n",
    "display(final_df.isna().sum())\n",
    "# final_df"
   ]
  },
  {
   "cell_type": "markdown",
   "id": "3afeb322",
   "metadata": {},
   "source": [
    "## Account Lockout Notifications\n",
    "`acctlockoutflag` - binary {Y:1, N:0} - did an account have at least 1 active lockout flag during the lookback period?\n",
    "\n",
    "\n",
    "* During the lookback period was there an account assigned a lockout flag, impeding account usage?\n",
    "* EFFDATE is the date the account lockout took effect\n",
    "* INACTIVEDATE is the date the lockout was no longer in effect."
   ]
  },
  {
   "cell_type": "code",
   "execution_count": 39,
   "id": "f6d6ce67",
   "metadata": {},
   "outputs": [],
   "source": [
    "oc_accounts = inner_join_sample_accounts_to_osibank_table(snow_session, 30)\n",
    "\n",
    "sdf_acctlockout = (\n",
    "    oc_accounts\n",
    "    .join(\n",
    "        snow_session.table('acctlockout'),\n",
    "        on='ACCTNBR',\n",
    "        how='inner',\n",
    "        rsuffix='_'\n",
    "    )\n",
    "    .filter(\n",
    "        (f.to_date('EFFDATE') < col('WINDOW_END_ADJ'))\n",
    "    )\n",
    "    .filter(\n",
    "        (f.to_date('INACTIVEDATE') >= col('WINDOW_START'))\n",
    "    )\n",
    "    .join(\n",
    "        snow_session.table('Lockoutflag'),\n",
    "        on='lockoutflagcd',\n",
    "        how='inner',\n",
    "        rsuffix='+'\n",
    "    )\n",
    "    .select(\n",
    "        'ACCTNBR', \n",
    "        'LOCKOUTFLAGDESC', \n",
    "        f.to_date(col('EFFDATE')).alias('effective'), \n",
    "        f.to_date(col('INACTIVEDATE')).alias('inactive')\n",
    "    )\n",
    ")\n",
    "\n",
    "# sdf_acctlockout.show()\n",
    "df_acctlockout = sdf_acctlockout.to_pandas()"
   ]
  },
  {
   "cell_type": "code",
   "execution_count": 40,
   "id": "4d95358a",
   "metadata": {},
   "outputs": [
    {
     "name": "stdout",
     "output_type": "stream",
     "text": [
      "9841\n",
      "--------------------------------------------\n",
      "|\"LOCKOUTFLAGDESC\"               |\"COUNT\"  |\n",
      "--------------------------------------------\n",
      "|No Withdrawals                  |2475     |\n",
      "|No Transactions Call Collectns  |2204     |\n",
      "|No WIthdrawals-Call Collection  |1377     |\n",
      "|Repossession AMS Code           |1042     |\n",
      "|No Transactions Call Fraud      |680      |\n",
      "|Deceased                        |523      |\n",
      "|Bankruptcy in Process           |226      |\n",
      "|Employee Account                |216      |\n",
      "|Membership Account Transaction  |214      |\n",
      "|BSA Missing Information         |190      |\n",
      "--------------------------------------------\n",
      "\n",
      "------------------------\n",
      "|\"MIN(\"\"EFFECTIVE\"\")\"  |\n",
      "------------------------\n",
      "|2001-06-29            |\n",
      "------------------------\n",
      "\n",
      "-----------------------\n",
      "|\"MAX(\"\"INACTIVE\"\")\"  |\n",
      "-----------------------\n",
      "|2099-11-15           |\n",
      "-----------------------\n",
      "\n"
     ]
    }
   ],
   "source": [
    "print(sdf_acctlockout.count())\n",
    "sdf_acctlockout.group_by(col('LOCKOUTFLAGDESC')).count().order_by('count', ascending=False).show()\n",
    "\n",
    "# this reveals to us that several members have had multiple account lockoutflags for the lookback period\n",
    "# we will assign a lockout flag if 1 or more lockout flags were assigned to an account during the lookback period\n",
    "# sdf_acctlockout.group_by(col('ACCTNBR')).count().order_by('count', ascending=False).show()\n",
    "\n",
    "sdf_acctlockout.select(f.min('EFFECTIVE')).show()\n",
    "sdf_acctlockout.select(f.max('INACTIVE')).show()"
   ]
  },
  {
   "cell_type": "code",
   "execution_count": 41,
   "id": "4cef49b1",
   "metadata": {},
   "outputs": [],
   "source": [
    "df_acctlockout = df_acctlockout[['ACCTNBR']]\n",
    "df_acctlockout.drop_duplicates(inplace=True)\n",
    "df_acctlockout['acctlockoutflag'] = 1\n",
    "# df_acctlockout"
   ]
  },
  {
   "cell_type": "code",
   "execution_count": 42,
   "id": "f438f952",
   "metadata": {},
   "outputs": [],
   "source": [
    "final_df = pd.merge(final_df, df_acctlockout, left_on='ACCTNBR', right_on='ACCTNBR', how='left')\n",
    "final_df['acctlockoutflag'].fillna(0, inplace=True)\n",
    "final_df['acctlockoutflag'] = final_df['acctlockoutflag'].astype('int')\n",
    "# final_df"
   ]
  },
  {
   "cell_type": "code",
   "execution_count": 57,
   "id": "83475c58",
   "metadata": {},
   "outputs": [
    {
     "data": {
      "text/plain": [
       "0    0.968638\n",
       "1    0.031362\n",
       "Name: acctlockoutflag, dtype: float64"
      ]
     },
     "execution_count": 57,
     "metadata": {},
     "output_type": "execute_result"
    }
   ],
   "source": [
    "final_df['acctlockoutflag'].value_counts() / len(final_df)"
   ]
  },
  {
   "cell_type": "markdown",
   "id": "145e6570",
   "metadata": {},
   "source": [
    "## Education Level\n",
    "* This attribute describes the highest education level the member has attained\n",
    "* Forced to drop this feature due to large number of missing values for our lookback population\n",
    "    - only 14/116,000=0.01% accounts have an associated education for the primary account owner"
   ]
  },
  {
   "cell_type": "code",
   "execution_count": 43,
   "id": "ce113c84",
   "metadata": {},
   "outputs": [
    {
     "name": "stdout",
     "output_type": "stream",
     "text": [
      "42\n",
      "------------------------------------\n",
      "|\"EDUCLEVDESC\"           |\"COUNT\"  |\n",
      "------------------------------------\n",
      "|High School             |25       |\n",
      "|Bachelors Degree        |12       |\n",
      "|High School Equivalent  |3        |\n",
      "|Masters Degree          |2        |\n",
      "------------------------------------\n",
      "\n"
     ]
    }
   ],
   "source": [
    "oc_accounts = inner_join_sample_accounts_to_osibank_table(snow_session, 30)\n",
    "\n",
    "sdf_education = (\n",
    "    oc_accounts\n",
    "    .join(\n",
    "        snow_session.table('PERS'),\n",
    "        on=oc_accounts['TAXRPTFORPERSNBR']==snow_session.table('PERS')['PERSNBR'],\n",
    "        how='inner',\n",
    "        rsuffix='_'\n",
    "    )\n",
    "    .join(\n",
    "        snow_session.table('EDUCLEV'),\n",
    "        on='EDUCLEVCD',\n",
    "        how='inner',\n",
    "        rsuffix='+'\n",
    "    )\n",
    "    .select('ACCTNBR', 'EDUCLEVDESC')\n",
    ")\n",
    "\n",
    "# sdf_education.show()\n",
    "print(sdf_education.count())\n",
    "sdf_education.group_by(col('EDUCLEVDESC')).count().order_by('count', ascending=False).show()"
   ]
  },
  {
   "cell_type": "markdown",
   "id": "deb94311",
   "metadata": {},
   "source": [
    "## Account Type Identification\n",
    "`acct_type` - categorical - 12 levels representing a mid-level category the account type falls into (checking, savings, mortgage loan, etc.)\n",
    "\n",
    "This is the basic categorical type of financial product offered by an institution and is a step above product-level, however, this is not a high-level product type categorization as is found for `MJACCTTYPCATDESC` below."
   ]
  },
  {
   "cell_type": "code",
   "execution_count": 44,
   "id": "aadcf5c1",
   "metadata": {},
   "outputs": [
    {
     "name": "stdout",
     "output_type": "stream",
     "text": [
      "301456\n",
      "12\n",
      "-------------------------------------\n",
      "|\"ACCT_TYPE\"              |\"COUNT\"  |\n",
      "-------------------------------------\n",
      "|Checking                 |173341   |\n",
      "|Savings                  |59532    |\n",
      "|Externally Serviced      |34080    |\n",
      "|Consumer Loan            |26045    |\n",
      "|Time Deposit             |3358     |\n",
      "|Master Line              |2288     |\n",
      "|Mortgage Loan            |1754     |\n",
      "|Retirement Account       |511      |\n",
      "|General Ledger           |367      |\n",
      "|Commercial Loan          |171      |\n",
      "|Official Check Accounts  |6        |\n",
      "|Regulatory Reporting     |3        |\n",
      "-------------------------------------\n",
      "\n"
     ]
    }
   ],
   "source": [
    "oc_accounts = inner_join_sample_accounts_to_osibank_table(snow_session, 30)\n",
    "\n",
    "sdf_mjaccttyp = (\n",
    "    oc_accounts\n",
    "    .join(\n",
    "        snow_session.table('mjaccttyp'),\n",
    "        on='MJACCTTYPCD',\n",
    "        how='inner',\n",
    "        rsuffix='_'\n",
    "    )\n",
    "    .select('ACCTNBR', col('MJACCTTYPDESC').alias('acct_type'))\n",
    ")\n",
    "\n",
    "print(sdf_mjaccttyp.count())    # all 116K accounts have been assigned a product type!\n",
    "# sdf_mjaccttyp.sort('ACCTNBR', ascending=True).show()\n",
    "print(sdf_mjaccttyp.group_by(col('acct_type')).count().order_by('count', ascending=False).count())\n",
    "sdf_mjaccttyp.group_by(col('acct_type')).count().order_by('count', ascending=False).show(12)"
   ]
  },
  {
   "cell_type": "code",
   "execution_count": 45,
   "id": "e16aae9d",
   "metadata": {},
   "outputs": [],
   "source": [
    "df_mjaccttyp = sdf_mjaccttyp.to_pandas()\n",
    "final_df = pd.merge(final_df, df_mjaccttyp, left_on='ACCTNBR', right_on='ACCTNBR', how='left')\n",
    "# final_df"
   ]
  },
  {
   "cell_type": "markdown",
   "id": "04260985",
   "metadata": {},
   "source": [
    "## Highest-Level Categories for Account Types/Financial Products Offered at Bellco\n",
    "This attribute represents the highest categorical classification of financial product offered by an institution. We forego this feature."
   ]
  },
  {
   "cell_type": "code",
   "execution_count": 46,
   "id": "5c810a80",
   "metadata": {},
   "outputs": [
    {
     "name": "stdout",
     "output_type": "stream",
     "text": [
      "301456\n",
      "6\n",
      "----------------------------------\n",
      "|\"MJACCTTYPCATDESC\"    |\"COUNT\"  |\n",
      "----------------------------------\n",
      "|Deposit               |236231   |\n",
      "|External Entities     |34080    |\n",
      "|Loan                  |30258    |\n",
      "|Retirement            |511      |\n",
      "|Other                 |373      |\n",
      "|Regulatory Reporting  |3        |\n",
      "----------------------------------\n",
      "\n"
     ]
    }
   ],
   "source": [
    "oc_accounts = inner_join_sample_accounts_to_osibank_table(snow_session, 30)\n",
    "\n",
    "sdf_mjaccttyp = (\n",
    "    oc_accounts\n",
    "    .join(\n",
    "        snow_session.table('mjaccttyp'),\n",
    "        on='MJACCTTYPCD',\n",
    "        how='inner',\n",
    "        rsuffix='_'\n",
    "    )\n",
    "    .join(snow_session.table('mjaccttypcat'),\n",
    "        on='MJACCTTYPCATCD',\n",
    "        how='inner',\n",
    "        rsuffix='_'\n",
    "    )\n",
    "    \n",
    "    .select('ACCTNBR', 'MJACCTTYPDESC', 'MJACCTTYPCATDESC')\n",
    ")\n",
    "\n",
    "print(sdf_mjaccttyp.count())    # all 116K accounts have an assigned product type!\n",
    "# sdf_mjaccttyp.show(20)\n",
    "print(sdf_mjaccttyp.group_by(col('MJACCTTYPCATDESC')).count().order_by('count', ascending=False).count())\n",
    "sdf_mjaccttyp.group_by(col('MJACCTTYPCATDESC')).count().order_by('count', ascending=False).show()"
   ]
  },
  {
   "cell_type": "markdown",
   "id": "572f5ada",
   "metadata": {},
   "source": [
    "## Product-level Bellco offering\n",
    "This attribute represents a product-level classification where there are 10 products listed for the lookback period.  We forego this feature.\n",
    "* 'Free' is thought to be shorthand or a typographical error for 'Free Checking'\n",
    "* there are 174 different products listed which presents a potential problem for 1-hot/dummy categorical encoding"
   ]
  },
  {
   "cell_type": "markdown",
   "id": "a8b069b9",
   "metadata": {},
   "source": [
    "* Note to self: either use product & major or just product"
   ]
  },
  {
   "cell_type": "code",
   "execution_count": 47,
   "id": "49798b9b",
   "metadata": {},
   "outputs": [
    {
     "name": "stdout",
     "output_type": "stream",
     "text": [
      "301456\n",
      "184\n",
      "-------------------------------------------\n",
      "|\"PRODUCT\"                      |\"COUNT\"  |\n",
      "-------------------------------------------\n",
      "|Free                           |61638    |\n",
      "|Boost Interest Checking        |56696    |\n",
      "|Platinum Checking              |21655    |\n",
      "|Visa Platinum Credit Card      |16829    |\n",
      "|Visa Platinum Rewards          |16237    |\n",
      "|Statement Account              |15783    |\n",
      "|Student Checking               |15713    |\n",
      "|Savings                        |11852    |\n",
      "|Primary                        |10591    |\n",
      "|Free Business Checking         |10240    |\n",
      "|Membership Account             |8988     |\n",
      "|CUDC Auto Used                 |8818     |\n",
      "|Youth Account                  |5779     |\n",
      "|Charged Off Checking           |4854     |\n",
      "|Auto Used                      |2461     |\n",
      "|Home Equity ChoiceLine         |2288     |\n",
      "|CUDC Auto New                  |2099     |\n",
      "|Max Checking                   |2006     |\n",
      "|Premier Money Market           |1874     |\n",
      "|Line of Credit                 |1711     |\n",
      "|Consumer Line of Credit        |1505     |\n",
      "|ChoiceLine Fixed Loan          |1486     |\n",
      "|ChoiceLine Variable Loan       |1403     |\n",
      "|New Auto Lease                 |1273     |\n",
      "|Converted Savings              |1272     |\n",
      "|Member Money Market            |1088     |\n",
      "|Blue Diamond Signature Credit  |1014     |\n",
      "|12 Month CD.                   |971      |\n",
      "|CUDC AZ Auto Used              |895      |\n",
      "|30 Year Fixed                  |731      |\n",
      "-------------------------------------------\n",
      "\n"
     ]
    }
   ],
   "source": [
    "oc_accounts = inner_join_sample_accounts_to_osibank_table(snow_session, 30)\n",
    "\n",
    "sdf_product = (\n",
    "    oc_accounts\n",
    "    .join(\n",
    "        snow_session.table('Mjmiaccttyp'),\n",
    "        on=oc_accounts['CURRMIACCTTYPCD']==snow_session.table('Mjmiaccttyp')['MIACCTTYPCD'],\n",
    "        how='inner',\n",
    "        rsuffix='_'\n",
    "    )\n",
    "    .select('ACCTNBR', col('MIACCTTYPDESC').alias('product'))\n",
    ")\n",
    "\n",
    "print(sdf_product.count())    # all 116K accounts have an assigned product type!\n",
    "# sdf_product.sort('ACCTNBR', ascending=True).show()\n",
    "print(sdf_product.group_by(col('product')).count().order_by('count', ascending=False).count())\n",
    "sdf_product.group_by(col('product')).count().order_by('count', ascending=False).show(30)"
   ]
  },
  {
   "cell_type": "markdown",
   "id": "b0cf70b8",
   "metadata": {},
   "source": [
    "## Account Ownership Type\n",
    "`own_single` - binary {Y:1, N:0} - if 1 then this account is solely owned, otherwise the account has joint ownership\n",
    "\n",
    "This features designates if the account in question is either solely, or jointly owned."
   ]
  },
  {
   "cell_type": "code",
   "execution_count": 48,
   "id": "382a6cff",
   "metadata": {},
   "outputs": [
    {
     "name": "stdout",
     "output_type": "stream",
     "text": [
      "301456\n",
      "-----------------------\n",
      "|\"OWNDESC\"  |\"COUNT\"  |\n",
      "-----------------------\n",
      "|Single     |175204   |\n",
      "|Joint OR   |118929   |\n",
      "|Joint And  |7323     |\n",
      "-----------------------\n",
      "\n"
     ]
    }
   ],
   "source": [
    "oc_accounts = inner_join_sample_accounts_to_osibank_table(snow_session, 30)\n",
    "\n",
    "sdf_owntyp = (\n",
    "    oc_accounts\n",
    "    .join(\n",
    "        snow_session.table('Owntyp'),\n",
    "        on='OWNCD',\n",
    "        how='inner',\n",
    "        rsuffix='_'\n",
    "    )\n",
    "    .select('ACCTNBR', 'OWNDESC')\n",
    ")\n",
    "\n",
    "print(sdf_owntyp.count())\n",
    "# sdf_owntyp.show()\n",
    "sdf_owntyp.group_by(col('OWNDESC')).count().order_by('count', ascending=False).show()"
   ]
  },
  {
   "cell_type": "code",
   "execution_count": 49,
   "id": "8be9aac8",
   "metadata": {},
   "outputs": [],
   "source": [
    "df_owntyp = sdf_owntyp.to_pandas()\n",
    "\n",
    "def single_owner_map(row):\n",
    "    if row == 'Single':\n",
    "        return 1\n",
    "    else:\n",
    "        return 0\n",
    "    \n",
    "def joint_ownership_map(row):\n",
    "    if row == 'Joint OR' or row == 'Joint And':\n",
    "        return 1\n",
    "    else:\n",
    "        return 0\n",
    "\n",
    "\n",
    "df_owntyp['acct_solo'] = df_owntyp['OWNDESC'].apply(single_owner_map)\n",
    "df_owntyp = df_owntyp[['ACCTNBR', 'acct_solo']]\n",
    "\n",
    "final_df = pd.merge(final_df, df_owntyp, left_on='ACCTNBR', right_on='ACCTNBR', how='left')\n",
    "# final_df"
   ]
  },
  {
   "cell_type": "markdown",
   "id": "299fc3cb",
   "metadata": {},
   "source": [
    "## Account Owner Age\n",
    "`acct_own_age` - continuous {2:108 years old} - derived from reported birthdate, which appears conspicuously missing for a fraction of the population.  The median age has been used to determine these missing values."
   ]
  },
  {
   "cell_type": "code",
   "execution_count": 51,
   "id": "c45ec279",
   "metadata": {},
   "outputs": [
    {
     "name": "stdout",
     "output_type": "stream",
     "text": [
      "----------------------------\n",
      "|\"ACCT_OWN_AGE\"  |\"COUNT\"  |\n",
      "----------------------------\n",
      "|53              |5593     |\n",
      "|54              |5425     |\n",
      "|52              |5392     |\n",
      "|55              |5245     |\n",
      "|60              |5171     |\n",
      "|63              |5154     |\n",
      "|61              |5082     |\n",
      "|64              |5059     |\n",
      "|59              |5058     |\n",
      "|62              |5008     |\n",
      "----------------------------\n",
      "\n"
     ]
    }
   ],
   "source": [
    "oc_accounts = inner_join_sample_accounts_to_osibank_table(snow_session, 30)\n",
    "\n",
    "sdf_acctowner_age = (\n",
    "    oc_accounts\n",
    "    .join(\n",
    "        snow_session.table('pers'),\n",
    "        on=oc_accounts['TAXRPTFORPERSNBR']==snow_session.table('pers')['persnbr'],\n",
    "        how='inner',\n",
    "        rsuffix='_'\n",
    "    )\n",
    "    .with_column(\n",
    "        \"acct_own_age\", \n",
    "        datediff( 'year', f.to_date(col(\"datebirth\")), current_date() ))\n",
    ").select('ACCTNBR', col('acct_own_age'))\n",
    "\n",
    "\n",
    "# print(f\"{sdf_acctowner_age.count():,} accounts w/ a respective DOB provided or {sdf_acctowner_age.count()/len(final_df):.2%}\")\n",
    "# sdf_acctowner_age.show()\n",
    "sdf_acctowner_age.group_by(col('acct_own_age')).count().order_by('count', ascending=False).collect()   # shows 10 results by default\n",
    "sdf_acctowner_age.group_by(col('acct_own_age')).count().order_by('count', ascending=False).show()"
   ]
  },
  {
   "cell_type": "code",
   "execution_count": 66,
   "id": "15f4549b",
   "metadata": {},
   "outputs": [
    {
     "data": {
      "text/plain": [
       "count    111289.000000\n",
       "mean         49.662339\n",
       "std          18.016613\n",
       "min           2.000000\n",
       "25%          35.000000\n",
       "50%          50.000000\n",
       "75%          64.000000\n",
       "max         108.000000\n",
       "Name: ACCT_OWN_AGE, dtype: float64"
      ]
     },
     "execution_count": 66,
     "metadata": {},
     "output_type": "execute_result"
    },
    {
     "data": {
      "image/png": "[encoded data removed]",
      "text/plain": [
       "<Figure size 640x480 with 1 Axes>"
      ]
     },
     "metadata": {},
     "output_type": "display_data"
    }
   ],
   "source": [
    "df_owner_age = sdf_acctowner_age.to_pandas()\n",
    "sns.histplot(df_owner_age['ACCT_OWN_AGE'], color='blue');\n",
    "df_owner_age['ACCT_OWN_AGE'].describe()"
   ]
  },
  {
   "cell_type": "code",
   "execution_count": 67,
   "id": "f867dedf",
   "metadata": {},
   "outputs": [
    {
     "data": {
      "image/png": "[encoded data removed]",
      "text/plain": [
       "<Figure size 640x480 with 1 Axes>"
      ]
     },
     "metadata": {},
     "output_type": "display_data"
    }
   ],
   "source": [
    "sns.set_style('darkgrid')\n",
    "sns.set_palette('Set2')\n",
    "sns.boxplot(df_owner_age['ACCT_OWN_AGE'], width=0.25);\n",
    "plt.xlabel('ACCT_OWN_AGE');"
   ]
  },
  {
   "cell_type": "code",
   "execution_count": 52,
   "id": "5f0e54d7",
   "metadata": {},
   "outputs": [],
   "source": [
    "df_age = sdf_acctowner_age.to_pandas()\n",
    "final_df = pd.merge(final_df, df_age, left_on='ACCTNBR', right_on='ACCTNBR', how='left')\n",
    "\n",
    "# fill-in missing age values (NA) w/ the median age\n",
    "final_df['ACCT_OWN_AGE'] = final_df['ACCT_OWN_AGE'].fillna(final_df['ACCT_OWN_AGE'].median())\n",
    "final_df['ACCT_OWN_AGE'] = final_df['ACCT_OWN_AGE'].astype('int')\n",
    "# final_df"
   ]
  },
  {
   "cell_type": "markdown",
   "id": "4b75b071",
   "metadata": {},
   "source": [
    "## Marital Status\n",
    "* largely blank -- cannot use unfortunately"
   ]
  },
  {
   "cell_type": "code",
   "execution_count": 53,
   "id": "8c19f92a",
   "metadata": {},
   "outputs": [
    {
     "name": "stdout",
     "output_type": "stream",
     "text": [
      "288273\n",
      "-----------------------------\n",
      "|\"SPOUSEPERSNBR\"  |\"COUNT\"  |\n",
      "-----------------------------\n",
      "|NULL             |285826   |\n",
      "|70535            |20       |\n",
      "|141704           |12       |\n",
      "|5544             |12       |\n",
      "|119710           |11       |\n",
      "|134435           |10       |\n",
      "|167723           |9        |\n",
      "|117584           |8        |\n",
      "|12886            |8        |\n",
      "|259100           |7        |\n",
      "-----------------------------\n",
      "\n"
     ]
    }
   ],
   "source": [
    "oc_accounts = inner_join_sample_accounts_to_osibank_table(snow_session, 30)\n",
    "\n",
    "sdf_marital_status = (\n",
    "    oc_accounts\n",
    "    .join(\n",
    "        snow_session.table('PERS'),\n",
    "        on=oc_accounts['TAXRPTFORPERSNBR']==snow_session.table('PERS')['PERSNBR'],\n",
    "        how='inner',\n",
    "        rsuffix='_'\n",
    "    )\n",
    "    .select('ACCTNBR', 'spousepersnbr')\n",
    ")\n",
    "\n",
    "# sdf_marital_status.show()\n",
    "print(sdf_marital_status.count())\n",
    "sdf_marital_status.group_by(col('SPOUSEPERSNBR')).count().order_by('count', ascending=False).show()"
   ]
  },
  {
   "cell_type": "markdown",
   "id": "e72eacbd",
   "metadata": {},
   "source": [
    "## Income Level\n",
    "* largely blank -- cannot use unfortunately"
   ]
  },
  {
   "cell_type": "code",
   "execution_count": 54,
   "id": "ea2220ca",
   "metadata": {},
   "outputs": [
    {
     "name": "stdout",
     "output_type": "stream",
     "text": [
      "288273\n",
      "---------------------------\n",
      "|\"INCOMELEVCD\"  |\"COUNT\"  |\n",
      "---------------------------\n",
      "|NULL           |288273   |\n",
      "---------------------------\n",
      "\n"
     ]
    }
   ],
   "source": [
    "oc_accounts = inner_join_sample_accounts_to_osibank_table(snow_session, 30)\n",
    "\n",
    "sdf_income_level = (\n",
    "    oc_accounts\n",
    "    .join(\n",
    "        snow_session.table('PERS'),\n",
    "        on=oc_accounts['TAXRPTFORPERSNBR']==snow_session.table('PERS')['PERSNBR'],\n",
    "        how='inner',\n",
    "        rsuffix='_'\n",
    "    )\n",
    "    .select('ACCTNBR', 'incomelevcd')\n",
    ")\n",
    "\n",
    "# sdf_income_level.show()\n",
    "print(sdf_income_level.count())\n",
    "sdf_income_level.group_by(col('incomelevcd')).count().order_by('count', ascending=False).show()"
   ]
  },
  {
   "cell_type": "markdown",
   "id": "09b3727b",
   "metadata": {},
   "source": [
    "## Number of Dependents reported for Primary Account Owner\n",
    "* largely blank -- cannot use unfortunately"
   ]
  },
  {
   "cell_type": "code",
   "execution_count": 55,
   "id": "7e4a64b3",
   "metadata": {},
   "outputs": [
    {
     "name": "stdout",
     "output_type": "stream",
     "text": [
      "288273\n",
      "------------------------\n",
      "|\"NBRDEPND\"  |\"COUNT\"  |\n",
      "------------------------\n",
      "|NULL        |287394   |\n",
      "|0           |874      |\n",
      "|2           |4        |\n",
      "|1           |1        |\n",
      "------------------------\n",
      "\n"
     ]
    }
   ],
   "source": [
    "oc_accounts = inner_join_sample_accounts_to_osibank_table(snow_session, 30)\n",
    "\n",
    "sdf_nbr_dep = (\n",
    "    oc_accounts\n",
    "    .join(\n",
    "        snow_session.table('PERS'),\n",
    "        on=oc_accounts['TAXRPTFORPERSNBR']==snow_session.table('PERS')['PERSNBR'],\n",
    "        how='inner',\n",
    "        rsuffix='_'\n",
    "    )\n",
    "    .select('ACCTNBR', 'nbrdepnd')\n",
    ")\n",
    "\n",
    "# sdf_nbr_dep.show()\n",
    "print(sdf_nbr_dep.count())\n",
    "sdf_nbr_dep.group_by(col('nbrdepnd')).count().order_by('count', ascending=False).show()"
   ]
  },
  {
   "cell_type": "markdown",
   "id": "d713e9ce",
   "metadata": {},
   "source": [
    "## Primary Account Owner's Occupation\n",
    "* all null values"
   ]
  },
  {
   "cell_type": "code",
   "execution_count": 56,
   "id": "0bcd575a",
   "metadata": {},
   "outputs": [
    {
     "name": "stdout",
     "output_type": "stream",
     "text": [
      "288273\n",
      "------------------------\n",
      "|\"OCCPTNCD\"  |\"COUNT\"  |\n",
      "------------------------\n",
      "|NULL        |288273   |\n",
      "------------------------\n",
      "\n"
     ]
    }
   ],
   "source": [
    "oc_accounts = inner_join_sample_accounts_to_osibank_table(snow_session, 30)\n",
    "\n",
    "sdf_occupation = (\n",
    "    oc_accounts\n",
    "    .join(\n",
    "        snow_session.table('PERS'),\n",
    "        on=oc_accounts['TAXRPTFORPERSNBR']==snow_session.table('PERS')['PERSNBR'],\n",
    "        how='inner',\n",
    "        rsuffix='_'\n",
    "    )\n",
    "    .select('ACCTNBR', 'occptncd')\n",
    ")\n",
    "\n",
    "# sdf_occupation.show()\n",
    "print(sdf_occupation.count())\n",
    "sdf_occupation.group_by(col('occptncd')).count().order_by('count', ascending=False).show()"
   ]
  },
  {
   "cell_type": "markdown",
   "id": "95e61635",
   "metadata": {},
   "source": [
    "## Does the Primary Account Owner Rent or Own?\n",
    "* largely blank -- cannot use unfortunately"
   ]
  },
  {
   "cell_type": "code",
   "execution_count": 57,
   "id": "9d6db456",
   "metadata": {},
   "outputs": [
    {
     "name": "stdout",
     "output_type": "stream",
     "text": [
      "288273\n",
      "-----------------------\n",
      "|\"OWNRENT\"  |\"COUNT\"  |\n",
      "-----------------------\n",
      "|NULL       |262574   |\n",
      "|R          |13391    |\n",
      "|O          |12308    |\n",
      "-----------------------\n",
      "\n"
     ]
    }
   ],
   "source": [
    "oc_accounts = inner_join_sample_accounts_to_osibank_table(snow_session, 30)\n",
    "\n",
    "sdf_nbr_dep = (\n",
    "    oc_accounts\n",
    "    .join(\n",
    "        snow_session.table('PERS'),\n",
    "        on=oc_accounts['TAXRPTFORPERSNBR']==snow_session.table('PERS')['PERSNBR'],\n",
    "        how='inner',\n",
    "        rsuffix='_'\n",
    "    )\n",
    "    .select('ACCTNBR', 'ownrent')\n",
    ")\n",
    "\n",
    "# sdf_nbr_dep.show()\n",
    "print(sdf_nbr_dep.count())\n",
    "sdf_nbr_dep.group_by(col('ownrent')).count().order_by('count', ascending=False).show()"
   ]
  },
  {
   "cell_type": "markdown",
   "id": "94d5583e",
   "metadata": {},
   "source": [
    "## Was the Primary Account Owner Validated?\n",
    "`own_valid` - binary {1:Yes, 0:No} - Did the account owner pass Bellco's validation protocol?\n",
    "* Did the account owner pass Bellco's validation protocol? This is a parameter without explanation, where the validation procedure remains unknown to this author, but is captured here nonetheless. \n",
    "Useable, however, related information concerning the ID type in-file has been collected which obviates the need for this feature"
   ]
  },
  {
   "cell_type": "code",
   "execution_count": 61,
   "id": "e9286b1c",
   "metadata": {},
   "outputs": [
    {
     "name": "stdout",
     "output_type": "stream",
     "text": [
      "288273\n",
      "-----------------------\n",
      "|\"VALIDYN\"  |\"COUNT\"  |\n",
      "-----------------------\n",
      "|Y          |254217   |\n",
      "|N          |34056    |\n",
      "-----------------------\n",
      "\n"
     ]
    }
   ],
   "source": [
    "oc_accounts = inner_join_sample_accounts_to_osibank_table(snow_session, 30)\n",
    "\n",
    "sdf_valid = (\n",
    "    oc_accounts\n",
    "    .join(\n",
    "        snow_session.table('PERS'),\n",
    "        on=oc_accounts['TAXRPTFORPERSNBR']==snow_session.table('PERS')['PERSNBR'],\n",
    "        how='inner',\n",
    "        rsuffix='_'\n",
    "    )\n",
    "    .select('ACCTNBR', 'validyn')\n",
    ")\n",
    "\n",
    "# sdf_valid.show()\n",
    "print(sdf_valid.count())\n",
    "sdf_valid.group_by(col('validyn')).count().order_by('count', ascending=False).show()\n",
    "df_valid = sdf_valid.to_pandas()\n",
    "df_valid.rename(columns={'VALIDYN': 'own_valid'}, inplace=True)"
   ]
  },
  {
   "cell_type": "code",
   "execution_count": 62,
   "id": "cc6efbd8",
   "metadata": {},
   "outputs": [],
   "source": [
    "%%capture\n",
    "# THE FOLLOWING OUTPUT IS WITHELD DUE TO SENSITIVE Personally identifiable information (PII)\n",
    "\n",
    "final_df = pd.merge(final_df, df_valid, left_on='ACCTNBR', right_on='ACCTNBR', how='left')\n",
    "final_df['own_valid'] = final_df['own_valid'].fillna(final_df['own_valid'].mode().values[0])\n",
    "final_df['own_valid'] = final_df['own_valid'].map({'Y':1, 'N':0})\n",
    "final_df['own_valid'] = final_df['own_valid'].astype('int')\n",
    "final_df.value_counts(dropna=False)\n",
    "# final_df"
   ]
  },
  {
   "cell_type": "markdown",
   "id": "9fdfddf4",
   "metadata": {},
   "source": [
    "## Credit Score\n",
    "`credit_score` - continuous {300-850}/categorical - The primary account owner's average credit score for the lookback period 1/1/2022 - 8/1/2022\n",
    "* In my experience working within finance it is much easier for an individual's credit score to drop than it is to build the score up (the latter taking years in most cases).  Therefore using the minimum credit score for the lookback period is the most illustrative approach.\n",
    "* It is not known to me when Bellco chooses to run credit reports on its members throughout any year (monthly, quarterly, etc).  A filter is needed, however, which captures when the credit score was determined and exists via `PERSCREDITSCOREHIST.SCOREDATE`.  It's possible that for transactional accounts in good standing Bellco only runs credit reports every several years, or does not run a credit report at all for a member, if they are in good standing, if they have no loans concurrently with Bellco.\n",
    "    - a filter upper bound is needed as we are only concerned with credit bureaus up through the end of our lookback period\n",
    "    - a filter lower bound is more interesting: if we set the lower bound for our credit bureau score to the start of our lookback window then we obtain credit scores for only ~66% of the population. However if we set no lower bound then we find we obtain credit scores for 90% of our population. Therefore no lower bound has been set.  This will give us a much better idea of credit scores, as an estimation, for members who would otherwise have to be estimated through imputation based off of other members' histories vs estimating based off an individual's credit history.\n",
    "* To avoid missing invaluble credit bureau reporting prior to the lookback window, we drop the lower limit for when a credit bureau report was taken as we are looking in aggregate for the lowest credit bureau score\n",
    "    - We avoid missing credit reports due to gaps in reporting\n",
    "        * e.g. (hypothetical) a CBR is taken every 2 years for transactional accounts in good standing, and the latest report in the series for a given account falls just below our lower window threshold, therefore we would not be able to see the score\n",
    "    - if a CBR was generated at any point in time for an individual this is better to use as a basis than to impute for a collective group of individuals potentially very different from a given account owner\n",
    "* ~10% of the population is imputed (median) due to missing values\n",
    "* Credit scores are categorical rather than continuous and as such **binning** is used -- see below"
   ]
  },
  {
   "cell_type": "code",
   "execution_count": 65,
   "id": "bd6519b9",
   "metadata": {},
   "outputs": [
    {
     "name": "stdout",
     "output_type": "stream",
     "text": [
      "72.27% of all values have a credit score\n"
     ]
    }
   ],
   "source": [
    "oc_accounts = inner_join_sample_accounts_to_osibank_table(snow_session, 30)\n",
    "\n",
    "sdf_credit_score = (\n",
    "    oc_accounts\n",
    "    .join(\n",
    "        snow_session.table('perscreditscorehist'),\n",
    "        on=oc_accounts['TAXRPTFORPERSNBR']==snow_session.table('perscreditscorehist')['PERSNBR'],\n",
    "        how='inner',\n",
    "        rsuffix='_'\n",
    "    )\n",
    "    .filter((f.to_date('SCOREDATE') < col('WINDOW_END_ADJ'))\n",
    "    )\n",
    "    .group_by('ACCTNBR').agg(f.min('CREDITSCORE').alias('CREDITSCORE'))   # max/min/avg\n",
    ")\n",
    "\n",
    "# sdf_credit_score.show()\n",
    "print(f\"{sdf_credit_score.count()/oc_accounts.count():.2%} of all values have a credit score\")\n",
    "df_credit_score = sdf_credit_score.to_pandas()\n",
    "# df_credit_score"
   ]
  },
  {
   "cell_type": "markdown",
   "id": "55ba7458",
   "metadata": {},
   "source": [
    "### several spurious values exist which must be addressed\n",
    "credit score: \n",
    "    - min: 0 (300 is min)\n",
    "    - >900: 9002, 9003 (vs 900 max possible for some Credit Bureau Report scales)"
   ]
  },
  {
   "cell_type": "code",
   "execution_count": 66,
   "id": "74e69398",
   "metadata": {},
   "outputs": [],
   "source": [
    "%%capture\n",
    "# THE FOLLOWING OUTPUT IS WITHELD DUE TO SENSITIVE Personally identifiable information (PII)\n",
    "\n",
    "df_credit_score[df_credit_score['CREDITSCORE'] > 900]"
   ]
  },
  {
   "cell_type": "code",
   "execution_count": 80,
   "id": "90dfbf8f",
   "metadata": {},
   "outputs": [
    {
     "name": "stdout",
     "output_type": "stream",
     "text": [
      "No Adjustment:\n",
      "Min value: 0.0\n",
      "Max value: 9003.0\n",
      "\n",
      "After Adjustment:\n",
      "Min value: 374.0\n",
      "Max value: 842.0\n"
     ]
    },
    {
     "name": "stderr",
     "output_type": "stream",
     "text": [
      "C:\\Users\\jcorley\\AppData\\Local\\Temp\\ipykernel_11608\\3025815749.py:7: SettingWithCopyWarning: \n",
      "A value is trying to be set on a copy of a slice from a DataFrame\n",
      "\n",
      "See the caveats in the documentation: https://pandas.pydata.org/pandas-docs/stable/user_guide/indexing.html#returning-a-view-versus-a-copy\n",
      "  df_credit_score.drop(df_credit_score[df_credit_score['CREDITSCORE'] > 900].index, inplace=True)\n"
     ]
    }
   ],
   "source": [
    "print(\"No Adjustment:\")\n",
    "print('Min value:', df_credit_score['CREDITSCORE'].min())\n",
    "print('Max value:', df_credit_score['CREDITSCORE'].max())\n",
    "\n",
    "# Drop the problematic credit scores: 0, 9002, 9003\n",
    "df_credit_score = df_credit_score[df_credit_score['CREDITSCORE'] != df_credit_score['CREDITSCORE'].min()]\n",
    "df_credit_score.drop(df_credit_score[df_credit_score['CREDITSCORE'] > 900].index, inplace=True)\n",
    "\n",
    "print(\"\\nAfter Adjustment:\")\n",
    "print('Min value:', df_credit_score['CREDITSCORE'].min())\n",
    "print('Max value:', df_credit_score['CREDITSCORE'].max())"
   ]
  },
  {
   "cell_type": "code",
   "execution_count": 81,
   "id": "ca4f270d",
   "metadata": {},
   "outputs": [
    {
     "data": {
      "text/plain": [
       "count    104223.000000\n",
       "mean        655.318932\n",
       "std          94.258930\n",
       "min         374.000000\n",
       "25%         588.000000\n",
       "50%         667.000000\n",
       "75%         733.000000\n",
       "max         842.000000\n",
       "Name: CREDITSCORE, dtype: float64"
      ]
     },
     "execution_count": 81,
     "metadata": {},
     "output_type": "execute_result"
    }
   ],
   "source": [
    "df_credit_score['CREDITSCORE'].describe()"
   ]
  },
  {
   "cell_type": "code",
   "execution_count": 82,
   "id": "4ddd8cc8",
   "metadata": {},
   "outputs": [
    {
     "data": {
      "image/png": "[encoded data removed]",
      "text/plain": [
       "<Figure size 640x480 with 1 Axes>"
      ]
     },
     "metadata": {},
     "output_type": "display_data"
    }
   ],
   "source": [
    "sns.boxplot(df_credit_score['CREDITSCORE'], width=0.25);"
   ]
  },
  {
   "cell_type": "markdown",
   "id": "059ef30e",
   "metadata": {},
   "source": [
    "### Fill-in Missing Values & Bin\n",
    "The chosen scale varies depending on the credit bureau and opinion of the individual--we could not find who Bellco uses for scoring its members within the underlying database as the associated table was unavailable. The following scoring is assumed, as it's common in finance:\n",
    "* Excellent: 800 - 850\n",
    "* Very Good: 750 - 799 \n",
    "* Good: 700 - 749\n",
    "* Fair: 650 - 699\n",
    "* Poor: 600 - 649\n",
    "* Bad: 300 - 599"
   ]
  },
  {
   "cell_type": "code",
   "execution_count": 83,
   "id": "7a7bedb5",
   "metadata": {},
   "outputs": [
    {
     "name": "stdout",
     "output_type": "stream",
     "text": [
      "ACCTNBR        0\n",
      "CREDITSCORE    0\n",
      "dtype: int64\n"
     ]
    },
    {
     "name": "stderr",
     "output_type": "stream",
     "text": [
      "C:\\Users\\jcorley\\AppData\\Local\\Temp\\ipykernel_11608\\434673740.py:2: SettingWithCopyWarning: \n",
      "A value is trying to be set on a copy of a slice from a DataFrame\n",
      "\n",
      "See the caveats in the documentation: https://pandas.pydata.org/pandas-docs/stable/user_guide/indexing.html#returning-a-view-versus-a-copy\n",
      "  df_credit_score['CREDITSCORE'].fillna(df_credit_score['CREDITSCORE'].median(), inplace=True)\n"
     ]
    }
   ],
   "source": [
    "# Impute missing credit score w/ median credit score for ~ 1/3 of values (not ideal but time constraint)\n",
    "df_credit_score['CREDITSCORE'].fillna(df_credit_score['CREDITSCORE'].median(), inplace=True)\n",
    "print(df_credit_score.isna().sum())"
   ]
  },
  {
   "cell_type": "code",
   "execution_count": 67,
   "id": "63a84fde",
   "metadata": {},
   "outputs": [],
   "source": [
    "%%capture\n",
    "# THE FOLLOWING OUTPUT IS WITHELD DUE TO SENSITIVE Personally identifiable information (PII)\n",
    "\n",
    "# Bin \n",
    "\n",
    "# display(df_credit_score['CREDITSCORE'])\n",
    "\n",
    "df_credit_score['credit_cat'] = pd.cut(\n",
    "    df_credit_score['CREDITSCORE'], \n",
    "    right=False,   # include right endpoint\n",
    "    bins=[300, 600, 650, 700, 750, 800, 851], \n",
    "    labels=['bad', 'poor', 'fair', 'good', 'very good', 'excellent']\n",
    ")\n",
    "\n",
    "display(df_credit_score)\n",
    "sns.histplot(data=df_credit_score, x='CREDITSCORE', hue='credit_cat', palette='viridis');\n",
    "\n",
    "df_credit_score = df_credit_score[['ACCTNBR', 'credit_cat']]"
   ]
  },
  {
   "cell_type": "code",
   "execution_count": 68,
   "id": "41b4dcc3",
   "metadata": {},
   "outputs": [],
   "source": [
    "final_df = pd.merge(final_df, df_credit_score, left_on='ACCTNBR', right_on='ACCTNBR', how='left')\n",
    "\n",
    "# fillna() expects scalar or same-length Series\n",
    "final_df['credit_cat'] = final_df['credit_cat'].fillna(final_df['credit_cat'].mode().values[0])  \n",
    "# final_df"
   ]
  },
  {
   "cell_type": "markdown",
   "id": "cc8de445",
   "metadata": {},
   "source": [
    "## ID Type used to Verify the Primary Account Holder\n",
    "* encode this feature & skip verification Y/N table. We forego this feature -- see notes below\n",
    "* we might encode a binary feature for military ID in the future"
   ]
  },
  {
   "cell_type": "code",
   "execution_count": 69,
   "id": "7788f07c",
   "metadata": {},
   "outputs": [
    {
     "name": "stdout",
     "output_type": "stream",
     "text": [
      "549952\n",
      "------------------------------\n",
      "|\"PERSIDTYPDESC\"   |\"COUNT\"  |\n",
      "------------------------------\n",
      "|Driver's License  |281366   |\n",
      "|Signature ID      |139149   |\n",
      "|Fingerprint ID    |117629   |\n",
      "|State ID          |4955     |\n",
      "|Passport          |3076     |\n",
      "|Resident Alien    |2879     |\n",
      "|Visa              |466      |\n",
      "|Military ID       |432      |\n",
      "------------------------------\n",
      "\n",
      "75.96% of accounts have an id type listed\n",
      "-------------------------------\n",
      "|\"AVG_NUM_ID_PER_ACCT_OWNER\"  |\n",
      "-------------------------------\n",
      "|2.401747                     |\n",
      "-------------------------------\n",
      "\n"
     ]
    }
   ],
   "source": [
    "oc_accounts = inner_join_sample_accounts_to_osibank_table(snow_session, 30)\n",
    "\n",
    "sdf_primary_id = (\n",
    "    oc_accounts\n",
    "    .join(\n",
    "        snow_session.table('persid'),\n",
    "        on=oc_accounts['TAXRPTFORPERSNBR']==snow_session.table('persid')['PERSNBR'],\n",
    "        how='inner',\n",
    "        rsuffix='_'\n",
    "    )\n",
    "    .join(\n",
    "        snow_session.table('Persidtyp'),\n",
    "        on='PERSIDTYPCD',\n",
    "        how='inner',\n",
    "        rsuffix='+'\n",
    "    )\n",
    "    .select(\n",
    "        'ACCTNBR', \n",
    "        'PERSIDTYPDESC', \n",
    "        f.to_date('LASTVERIFICATIONDATE').alias('LASTVERIFICATIONDATE'), \n",
    "        f.to_date('EXPIREDATE').alias('EXPIREDATE'),\n",
    "        f.to_date('DATELASTMAINT').alias('DATELASTMAINT')\n",
    "    )\n",
    ")\n",
    "\n",
    "# sdf_primary_id.show()\n",
    "print(sdf_primary_id.count())\n",
    "sdf_primary_id.group_by(col('PERSIDTYPDESC')).count().order_by('count', ascending=False).show()\n",
    "# sdf_primary_id.group_by(col('ACCTNBR')).count().order_by('count', ascending=False).show()\n",
    "print(\n",
    "    f\"{sdf_primary_id.select(col('ACCTNBR')).distinct().count()/oc_accounts.count():.2%} of accounts have an id type listed\")\n",
    "sdf_primary_id.group_by(col('ACCTNBR')).count().order_by('count', ascending=False).agg(f.avg('COUNT').alias('avg_num_id_per_acct_owner')).show()"
   ]
  },
  {
   "cell_type": "code",
   "execution_count": 87,
   "id": "f16de11b",
   "metadata": {},
   "outputs": [
    {
     "name": "stdout",
     "output_type": "stream",
     "text": [
      "---------------------\n",
      "|\"COUNT\"  |\"COUNT\"  |\n",
      "---------------------\n",
      "|6        |8        |\n",
      "|4        |1200     |\n",
      "|1        |56540    |\n",
      "|5        |96       |\n",
      "|2        |14223    |\n",
      "|3        |37454    |\n",
      "---------------------\n",
      "\n"
     ]
    }
   ],
   "source": [
    "# determine how many accounts have X number of ID's: left column id count, right column frequency\n",
    "sdf_primary_id.group_by(col('ACCTNBR')).count().group_by(col('COUNT')).count().show()"
   ]
  },
  {
   "cell_type": "code",
   "execution_count": 70,
   "id": "7b114aa6",
   "metadata": {},
   "outputs": [],
   "source": [
    "df_primary_id = sdf_primary_id.to_pandas()\n",
    "# df_primary_id"
   ]
  },
  {
   "cell_type": "code",
   "execution_count": 89,
   "id": "9b78bfba",
   "metadata": {},
   "outputs": [
    {
     "data": {
      "text/plain": [
       "Driver's License    0.537301\n",
       "Signature ID        0.241247\n",
       "Fingerprint ID      0.201435\n",
       "State ID            0.008462\n",
       "Resident Alien      0.005028\n",
       "Passport            0.004993\n",
       "Visa                0.000780\n",
       "Military ID         0.000755\n",
       "Name: PERSIDTYPDESC, dtype: float64"
      ]
     },
     "execution_count": 89,
     "metadata": {},
     "output_type": "execute_result"
    }
   ],
   "source": [
    "df_primary_id['PERSIDTYPDESC'].value_counts(dropna=False) / len(df_primary_id)"
   ]
  },
  {
   "cell_type": "code",
   "execution_count": 71,
   "id": "bb21eac1",
   "metadata": {},
   "outputs": [],
   "source": [
    "# df_primary_id[df_primary_id['ACCTNBR'] == XXX]"
   ]
  },
  {
   "cell_type": "markdown",
   "id": "6384bd68",
   "metadata": {},
   "source": [
    "### ID observations\n",
    "It appears there is no ordering to ID's loaded into the system.  Important columns such as ISSUEDATE, EXPIREDATE, LASTVERIFICATIONDATE, which indicate when an ID was issued, expires, and last verfied are largely blank.\n",
    "* It appears that if a Military ID or Resident Alien ID is present then there is a greater likelihood that other ID's will also be uploaded.\n",
    "* this feature will not be used due to numerous accounts having multiple forms of ID uploaded\n",
    "* possible avenue of exploration: if the mbr submits a fingerprint as a form of ID are they less likely to close their Bellco account?"
   ]
  },
  {
   "cell_type": "markdown",
   "id": "5ecd22ad",
   "metadata": {},
   "source": [
    "## NAICS Service Industry Code \n",
    "Describes an industry affiliation\n",
    "* NOTE: the SIC description table appears unavailable; this table would describe industries [for employment, etc.]"
   ]
  },
  {
   "cell_type": "markdown",
   "id": "56810c5a",
   "metadata": {},
   "source": [
    "### Person-level SIC Code Assignment\n",
    "* Do not use this mapping\n",
    "    - There are 4 total results, including 2 null out of a possible 116K"
   ]
  },
  {
   "cell_type": "code",
   "execution_count": 72,
   "id": "23cb85db",
   "metadata": {},
   "outputs": [
    {
     "name": "stdout",
     "output_type": "stream",
     "text": [
      "19\n"
     ]
    }
   ],
   "source": [
    "oc_accounts = inner_join_sample_accounts_to_osibank_table(snow_session, 30)\n",
    "\n",
    "sdf_pers_sic = (\n",
    "    oc_accounts\n",
    "    .select('ACCTNBR', 'TAXRPTFORPERSNBR')\n",
    "    .join(\n",
    "        snow_session.table('Persnaicssic'),\n",
    "        on=oc_accounts['TAXRPTFORPERSNBR']==snow_session.table('Persnaicssic')['PERSNBR'],\n",
    "        how='inner',\n",
    "        rsuffix='_'\n",
    "    )\n",
    "    .select('ACCTNBR', 'SICCD')\n",
    ")\n",
    "\n",
    "# sdf_pers_sic.show(10)\n",
    "print(sdf_pers_sic.count())"
   ]
  },
  {
   "cell_type": "markdown",
   "id": "233716f2",
   "metadata": {},
   "source": [
    "### Account-level SIC Code Assignment\n",
    "* Do not use this mapping\n",
    "    - There are 6 total results, including 5 null out of a possible 116K"
   ]
  },
  {
   "cell_type": "code",
   "execution_count": 73,
   "id": "b58d4321",
   "metadata": {},
   "outputs": [
    {
     "name": "stdout",
     "output_type": "stream",
     "text": [
      "16\n"
     ]
    }
   ],
   "source": [
    "oc_accounts = inner_join_sample_accounts_to_osibank_table(snow_session, 30)\n",
    "\n",
    "sdf_acct_sic = (\n",
    "    oc_accounts\n",
    "    .select('ACCTNBR', 'TAXRPTFORPERSNBR')\n",
    "    .join(\n",
    "        snow_session.table('Acctnaicssic'),\n",
    "        on='acctnbr',\n",
    "        how='inner',\n",
    "        rsuffix='_'\n",
    "    )\n",
    "    .select('ACCTNBR', 'SICCD')\n",
    ")\n",
    "\n",
    "# sdf_acct_sic.show(10)\n",
    "print(sdf_acct_sic.count())"
   ]
  },
  {
   "cell_type": "markdown",
   "id": "2a1d53d4",
   "metadata": {},
   "source": [
    "## Notes placed on accounts\n",
    "* has note: Yes/No\n",
    "* a majority of the notes ~35K for the lookback period are cateogrically defined as 'Note' without further explanation\n",
    "    - we would need to parse the note string for keywords, representing a possible future avenue of exploration"
   ]
  },
  {
   "cell_type": "code",
   "execution_count": 74,
   "id": "8c62793a",
   "metadata": {},
   "outputs": [
    {
     "name": "stdout",
     "output_type": "stream",
     "text": [
      "39624\n",
      "------------------------------\n",
      "|\"NOTECLASSDESC\"   |\"COUNT\"  |\n",
      "------------------------------\n",
      "|Note              |36940    |\n",
      "|Billpay           |2543     |\n",
      "|Title             |90       |\n",
      "|Misc              |24       |\n",
      "|CUDC Lease Notes  |21       |\n",
      "|Verification      |5        |\n",
      "|Fees              |1        |\n",
      "------------------------------\n",
      "\n"
     ]
    }
   ],
   "source": [
    "oc_accounts = inner_join_sample_accounts_to_osibank_table(snow_session, 30)\n",
    "\n",
    "sdf_acct_note_cat = (\n",
    "    oc_accounts\n",
    "    .select('ACCTNBR')\n",
    "    .join(\n",
    "        snow_session.table('acctnote'),\n",
    "        on='acctnbr',\n",
    "        how='inner',\n",
    "        rsuffix='_'\n",
    "    )\n",
    "    .select('ACCTNBR', 'NOTENBR')\n",
    "    .join(\n",
    "        snow_session.table('note'),\n",
    "        on='notenbr',\n",
    "        how='inner',\n",
    "        rsuffix='_'\n",
    "    )\n",
    "    .filter(\n",
    "        (f.to_date('CREATEDATE') >= '1/1/2022') & (f.to_date('CREATEDATE') <= '8/1/2022')\n",
    "    )\n",
    "    .select('ACCTNBR', 'noteclasscd')\n",
    "    .join(\n",
    "        snow_session.table('noteclass'),\n",
    "        on='noteclasscd',\n",
    "        how='inner',\n",
    "        rsuffix='_'\n",
    "    )\n",
    "    .select('ACCTNBR', 'NOTECLASSDESC')\n",
    ")\n",
    "\n",
    "# sdf_acct_note_cat.show()\n",
    "print(sdf_acct_note_cat.count())\n",
    "sdf_acct_note_cat.group_by(col('NOTECLASSDESC')).count().order_by('count', ascending=False).show()"
   ]
  },
  {
   "cell_type": "markdown",
   "id": "460f8f1e",
   "metadata": {},
   "source": [
    "## Zipcode\n",
    "`zipcode` - categorical - US exclusive zipcodes  \n",
    "* ~25% of accounts have missing values which are imputed with the mode of all zipcodes\n",
    "    - for further confirmation of missing values, at least in the underlying database used, see `table_view_exploration_feature_engineering.ipynb`, `addr` table.\n",
    "* From this data the most frequently reported zipcode is 80134 which is SSE of Denver, CO\n",
    "* Members frequently move and change zipcodes therefore the most recent zipcode was selected for each member"
   ]
  },
  {
   "cell_type": "code",
   "execution_count": 75,
   "id": "12518261",
   "metadata": {},
   "outputs": [
    {
     "name": "stdout",
     "output_type": "stream",
     "text": [
      "388001\n",
      "75.47% of accounts have an associated zipcode\n"
     ]
    }
   ],
   "source": [
    "# closed accounts --> closure date\n",
    "\n",
    "oc_accounts = inner_join_sample_accounts_to_osibank_table(snow_session, 30)\n",
    "\n",
    "sdf_zipcd = (\n",
    "    oc_accounts\n",
    "    .join(\n",
    "        snow_session.table('persaddruse'),\n",
    "        on=oc_accounts['TAXRPTFORPERSNBR']==snow_session.table('persaddruse')['PERSNBR'],\n",
    "        how='inner',\n",
    "        rsuffix='_'\n",
    "    )\n",
    "    .filter(\n",
    "        (f.to_date('EFFDATE') < col('WINDOW_END_ADJ'))   # many rows for 'INVALID' date are None\n",
    "    )\n",
    "    .join(\n",
    "        snow_session.table('addr'),\n",
    "        on='addrnbr',\n",
    "        how='inner',\n",
    "        rsuffix='_'\n",
    "    )\n",
    "    .filter(\n",
    "        (col('ZIPCD').is_not_null())\n",
    "    )\n",
    "    .select('ACCTNBR', 'ZIPCD', f.to_date('EFFDATE').alias('EFFDATE'))\n",
    ")\n",
    "\n",
    "# sdf_zipcd.show()\n",
    "print(sdf_zipcd.count())\n",
    "\n",
    "# sdf_zipcd.group_by('ACCTNBR').count().order_by('ACCTNBR', ascending=False).show()\n",
    "print(\n",
    "    f\"{sdf_zipcd.group_by('ACCTNBR').count().order_by(['count'], ascending=False).count()/oc_accounts.count():.2%} of accounts have an associated zipcode\"\n",
    ")\n",
    "# sdf_zipcd.group_by('ACCTNBR').count().order_by('ACCTNBR', ascending=False).show()\n",
    "# sdf_zipcd.group_by('ACCTNBR').count().order_by('count', ascending=False).show()"
   ]
  },
  {
   "cell_type": "code",
   "execution_count": 76,
   "id": "275bd432",
   "metadata": {},
   "outputs": [
    {
     "name": "stdout",
     "output_type": "stream",
     "text": [
      "227510\n"
     ]
    }
   ],
   "source": [
    "windowSpec = Window.partition_by(f.col(\"ACCTNBR\")).order_by(f.col(\"EFFDATE\").desc_nulls_last())\n",
    "\n",
    "result = (\n",
    "    sdf_zipcd\n",
    "    .select(\n",
    "        col(\"ACCTNBR\"),\n",
    "        col(\"ZIPCD\"),\n",
    "        col(\"EFFDATE\"),\n",
    "        f.row_number().over(windowSpec).alias(\"row_num\")\n",
    "    )\n",
    "    .filter(col(\"row_num\") == 1)\n",
    "    .select('ACCTNBR', 'ZIPCD')    # uncomment to examine 'row_num' within Window; Window is partion of data by ACCTNBR\n",
    ")\n",
    "\n",
    "# result.select(f.max('EFFDATE')).show()  # will need to comment out line above to run these\n",
    "# result.select(f.min('EFFDATE')).show()\n",
    "# result.select(f.mode('EFFDATE')).show()\n",
    "\n",
    "print(result.count())\n",
    "# result..order_by('ACCTNBR', 'row_num').show(30)  # uncomment to examine 'row_num' within Window,\n",
    "# result.order_by('ACCTNBR').show(30)                # in addition to comment out .select() above\n",
    "\n",
    "# print(result.distinct().count())\n",
    "# result.distinct().order_by('ACCTNBR').show()\n",
    "\n",
    "df_zipcode = result.to_pandas()"
   ]
  },
  {
   "cell_type": "code",
   "execution_count": 77,
   "id": "e241d16a",
   "metadata": {},
   "outputs": [
    {
     "name": "stdout",
     "output_type": "stream",
     "text": [
      "0    80015\n",
      "Name: zipcode, dtype: object\n"
     ]
    }
   ],
   "source": [
    "final_df = pd.merge(final_df, df_zipcode, on='ACCTNBR', how='left')\n",
    "final_df.rename(columns={'ZIPCD': 'zipcode'}, inplace=True)\n",
    "print(final_df['zipcode'].mode())\n",
    "final_df['zipcode'] = final_df['zipcode'].fillna(final_df['zipcode'].mode().values[0])\n",
    "# final_df"
   ]
  },
  {
   "cell_type": "code",
   "execution_count": 97,
   "id": "48ae7fbf",
   "metadata": {},
   "outputs": [
    {
     "name": "stdout",
     "output_type": "stream",
     "text": [
      "number of unique zipcodes: 5,326!!!\n"
     ]
    },
    {
     "data": {
      "text/plain": [
       "array(['80026', '80134', '80012', ..., '75503', '76129', '58623'],\n",
       "      dtype=object)"
      ]
     },
     "execution_count": 97,
     "metadata": {},
     "output_type": "execute_result"
    }
   ],
   "source": [
    "print(f\"number of unique zipcodes: {final_df['zipcode'].nunique():,}!!!\")\n",
    "final_df['zipcode'].unique()"
   ]
  },
  {
   "cell_type": "markdown",
   "id": "48bd0332",
   "metadata": {},
   "source": [
    "## Account Source Funds\n",
    "- 60% of accounts have this field completed. We must forego \n",
    "\n",
    "\n",
    "* denotes the source of funds used for opening the account\n",
    "* This would be an interesting field, however, slightly more than half of the rows are missing values\n",
    "* Examining the `fundsource` table we see there are 6 non-descript 'User Defined' categories without explanation"
   ]
  },
  {
   "cell_type": "code",
   "execution_count": 78,
   "id": "ac031311",
   "metadata": {},
   "outputs": [
    {
     "name": "stdout",
     "output_type": "stream",
     "text": [
      "61.69% of accounts have a fund source captured\n",
      "--------------------------------------------\n",
      "|\"FUNDSOURCEDESC\"                |\"COUNT\"  |\n",
      "--------------------------------------------\n",
      "|New Customer                    |117111   |\n",
      "|New Funds Existing Customer     |45737    |\n",
      "|Internal Transfer               |22701    |\n",
      "|User Defined                    |379      |\n",
      "|Restricted Insurance Loss Fund  |38       |\n",
      "--------------------------------------------\n",
      "\n"
     ]
    }
   ],
   "source": [
    "oc_accounts = inner_join_sample_accounts_to_osibank_table(snow_session, 30)\n",
    "\n",
    "sdf_sourcefunds = (\n",
    "    oc_accounts\n",
    "    .join(\n",
    "        snow_session.table('fundsource'),\n",
    "        on=oc_accounts['OPENFUNDSOURCECD'] == snow_session.table('fundsource')['FUNDSOURCECD'],\n",
    "        how='inner',\n",
    "        rsuffix='_'\n",
    "    )\n",
    "    .select('ACCTNBR', 'FUNDSOURCEDESC')\n",
    ")\n",
    "\n",
    "print(f\"{sdf_sourcefunds.count()/oc_accounts.count():.2%} of accounts have a fund source captured\")\n",
    "# sdf_sourcefunds.show()\n",
    "sdf_sourcefunds.group_by(col('FUNDSOURCEDESC')).count().order_by('count', ascending=False).show()"
   ]
  },
  {
   "cell_type": "markdown",
   "id": "dd503b4a",
   "metadata": {},
   "source": [
    "## Transactions Per Account during Lookback Period\n",
    "`num_trxn` - counting number/continous - how many transactions were there for an associated account during the lookback period?\n",
    "\n",
    "* We use a 90-day sliding window to avoid items occuring on the peripheral of our aggregation. When we include this additional time in our lookback window we find we go from 88K to 96.8K\n",
    "* We impute approximately 16% of the values w/ the median as extreme outliers exist"
   ]
  },
  {
   "cell_type": "code",
   "execution_count": 80,
   "id": "41945105",
   "metadata": {},
   "outputs": [
    {
     "name": "stdout",
     "output_type": "stream",
     "text": [
      "87407938\n",
      "224263\n"
     ]
    }
   ],
   "source": [
    "oc_accounts = inner_join_sample_accounts_to_osibank_table(snow_session, 30)\n",
    "\n",
    "sdf_rtxn_per_acct = (\n",
    "    oc_accounts\n",
    "    .join(\n",
    "        snow_session.table('rtxn'),\n",
    "        on='ACCTNBR',\n",
    "        how='inner',\n",
    "        rsuffix='_'\n",
    "    )\n",
    "    .filter(\n",
    "        (f.to_date('ORIGPOSTDATE') > '09/01/2021') & (f.to_date('ORIGPOSTDATE') < col('WINDOW_END_ADJ'))\n",
    "    )\n",
    "    .select('ACCTNBR', 'RTXNNBR')\n",
    ")\n",
    "\n",
    "print(sdf_rtxn_per_acct.count())\n",
    "# sdf_rtxn_per_acct.show()\n",
    "\n",
    "print(sdf_rtxn_per_acct.group_by(col('ACCTNBR')).count().order_by('count', ascending=False).count())\n",
    "# sdf_rtxn_per_acct.group_by(col('ACCTNBR')).count().order_by('count', ascending=False).show()\n",
    "df_rtxn_per_acct = sdf_rtxn_per_acct.group_by(col('ACCTNBR')).count().order_by('count', ascending=False).to_pandas()"
   ]
  },
  {
   "cell_type": "code",
   "execution_count": 1,
   "id": "008ed0b9",
   "metadata": {},
   "outputs": [],
   "source": [
    "# Examine account processing 134K transactions\n",
    "# print(sdf_rtxn_per_acct.filter(col('ACCTNBR') == XXXX).count())\n",
    "# sdf_rtxn_per_acct.filter(col('ACCTNBR') == XXXX).show()"
   ]
  },
  {
   "cell_type": "code",
   "execution_count": 101,
   "id": "70161679",
   "metadata": {},
   "outputs": [],
   "source": [
    "df_rtxn_per_acct.rename(columns={'COUNT': 'num_trxn'}, inplace=True)\n",
    "final_df = pd.merge(final_df, df_rtxn_per_acct, on='ACCTNBR', how='left')\n",
    "final_df['num_trxn'] = final_df['num_trxn'].fillna(final_df['num_trxn'].median())\n",
    "final_df['num_trxn'] = final_df['num_trxn'].astype('int')"
   ]
  },
  {
   "cell_type": "code",
   "execution_count": 102,
   "id": "604b79fe",
   "metadata": {},
   "outputs": [
    {
     "data": {
      "text/plain": [
       "count    116000.000000\n",
       "mean        200.348716\n",
       "std         524.380770\n",
       "min           1.000000\n",
       "25%          14.000000\n",
       "50%          75.000000\n",
       "75%         213.000000\n",
       "max      134340.000000\n",
       "Name: num_trxn, dtype: float64"
      ]
     },
     "execution_count": 102,
     "metadata": {},
     "output_type": "execute_result"
    }
   ],
   "source": [
    "final_df['num_trxn'].describe()"
   ]
  },
  {
   "cell_type": "markdown",
   "id": "ca01c47c",
   "metadata": {},
   "source": [
    "## Mode of Transaction fund source\n",
    "`rtxn_source_mode` - counting/continuous - the most common category of transaction per account\n",
    "* This feature represents the mode of transaction source (ATM, ACH, Call Center, etc.) for a given account. This can also be stated as the statistical mode of identification of the source of a transaction. \n",
    "* This feature reveals how the account was mainly used during the lookback period (and additional preceding aggregation window)."
   ]
  },
  {
   "cell_type": "code",
   "execution_count": 81,
   "id": "d1fe298e",
   "metadata": {},
   "outputs": [
    {
     "name": "stdout",
     "output_type": "stream",
     "text": [
      "81912567\n",
      "199605\n",
      "---------------------------------\n",
      "|\"RTXN_SOURCE_MODE\"   |\"COUNT\"  |\n",
      "---------------------------------\n",
      "|ATM                  |85745    |\n",
      "|Batch                |75910    |\n",
      "|Internet             |29871    |\n",
      "|Online               |6795     |\n",
      "|CUSC Shared Branch   |574      |\n",
      "|NOW                  |360      |\n",
      "|Voice Response Unit  |183      |\n",
      "|Core API             |167      |\n",
      "---------------------------------\n",
      "\n"
     ]
    }
   ],
   "source": [
    "# rtxnfundtyp -- funds of a transaction   # 13 higher-level codes\n",
    "# acctnbr, rtxnnbr, -->fundtypcd (higher-level category), -->fundtypedtlcd (more specific, includes PAYROLL DEPOSIT)\n",
    "\n",
    "# rtxnsource\n",
    "# rtxnsourcecd, rtxnsourcecdesc   # 21 source descriptions, slightly more detailed\n",
    "\n",
    "oc_accounts = inner_join_sample_accounts_to_osibank_table(snow_session, 30)\n",
    "\n",
    "sdf_rtxn_mode = (\n",
    "    oc_accounts\n",
    "    .join(\n",
    "        snow_session.table('rtxn'),\n",
    "        on='ACCTNBR',\n",
    "        how='inner',\n",
    "        rsuffix='_'\n",
    "    )\n",
    "    .join(\n",
    "        snow_session.table('RTXNSOURCE'),\n",
    "        on='RTXNSOURCECD',\n",
    "        how='inner',\n",
    "        rsuffix='_'\n",
    "    )\n",
    "    .filter(\n",
    "        (f.to_date('ORIGPOSTDATE') > '09/01/2021') & (f.to_date('ORIGPOSTDATE') < col('WINDOW_END_ADJ'))\n",
    "    )\n",
    "    .select('ACCTNBR', 'RTXNNBR', 'RTXNSOURCEDESC')\n",
    ")\n",
    "\n",
    "print(sdf_rtxn_mode.count())\n",
    "# sdf_rtxn_mode.show()\n",
    "\n",
    "print(sdf_rtxn_mode.group_by(col('ACCTNBR')).agg(f.mode('RTXNSOURCEDESC').alias('rtxn_source_mode')).count())\n",
    "# sdf_rtxn_mode.group_by(col('ACCTNBR')).agg(f.mode('RTXNSOURCEDESC').alias('rtxn_source_mode')).show()\n",
    "\n",
    "sdf_rtxn_mode_agg = sdf_rtxn_mode.group_by(col('ACCTNBR')).agg(f.mode('RTXNSOURCEDESC').alias('rtxn_source_mode'))\n",
    "# sdf_rtxn_mode_agg.show()\n",
    "\n",
    "sdf_rtxn_mode_agg.group_by(col('rtxn_source_mode')).count().order_by('count', ascending=False).show()\n",
    "\n",
    "df_rtxn_mode = sdf_rtxn_mode_agg.to_pandas()"
   ]
  },
  {
   "cell_type": "code",
   "execution_count": 82,
   "id": "a42b18aa",
   "metadata": {},
   "outputs": [
    {
     "name": "stdout",
     "output_type": "stream",
     "text": [
      "0    ATM\n",
      "Name: RTXN_SOURCE_MODE, dtype: object\n"
     ]
    }
   ],
   "source": [
    "final_df = pd.merge(final_df, df_rtxn_mode, on='ACCTNBR', how='left')\n",
    "print(final_df['RTXN_SOURCE_MODE'].mode())\n",
    "final_df['RTXN_SOURCE_MODE'] = final_df['RTXN_SOURCE_MODE'].fillna(final_df['RTXN_SOURCE_MODE'].mode().values[0])\n",
    "# final_df"
   ]
  },
  {
   "cell_type": "markdown",
   "id": "64465b39",
   "metadata": {},
   "source": [
    "## Cancelled, reversed, or rejected transactions?\n",
    "`trxn_issues` - binary {Y:1, N:0} - this feature indicates if there were any problems associated with account transactions, namely cancelled, reversed or rejected transactions.  This may indicate unusual account activity.\n"
   ]
  },
  {
   "cell_type": "code",
   "execution_count": 83,
   "id": "5b541617",
   "metadata": {},
   "outputs": [
    {
     "name": "stdout",
     "output_type": "stream",
     "text": [
      "112852\n",
      "-----------------------------\n",
      "|\"TRXN_ISSUES\"    |\"COUNT\"  |\n",
      "-----------------------------\n",
      "|Rejected         |68024    |\n",
      "|Error Corrected  |44540    |\n",
      "|Reverse          |288      |\n",
      "-----------------------------\n",
      "\n"
     ]
    }
   ],
   "source": [
    "oc_accounts = inner_join_sample_accounts_to_osibank_table(snow_session, 30)\n",
    "\n",
    "sdf_rtxn_issues = (\n",
    "    oc_accounts\n",
    "    .join(\n",
    "        snow_session.table('rtxn'),\n",
    "        on='ACCTNBR',\n",
    "        how='inner',\n",
    "        rsuffix='_'\n",
    "    )\n",
    "    .join(\n",
    "        snow_session.table('Rtxnstat'),\n",
    "        on=snow_session.table('rtxn')['CURRRTXNSTATCD']==snow_session.table('Rtxnstat')['RTXNSTATCD'],\n",
    "        how='inner',\n",
    "        rsuffix='_'\n",
    "    )\n",
    "    .filter(\n",
    "        (f.to_date('ORIGPOSTDATE') > '09/01/2021') & (f.to_date('ORIGPOSTDATE') < col('WINDOW_END_ADJ'))\n",
    "    )\n",
    "    .filter(\n",
    "        (col('RTXNSTATDESC') == 'Cancelled') | \n",
    "        (col('RTXNSTATDESC') == 'Error Corrected') |\n",
    "        (col('RTXNSTATDESC') == 'Suspended') |\n",
    "        (col('RTXNSTATDESC') == 'Reverse') |\n",
    "        (col('RTXNSTATDESC') == 'Rejected')\n",
    "    )\n",
    "    .select('ACCTNBR', col('RTXNSTATDESC').alias('trxn_issues'))\n",
    ")\n",
    "\n",
    "print(sdf_rtxn_issues.count())\n",
    "# sdf_rtxn_issues.show()\n",
    "\n",
    "# print(sdf_rtxn_issues.group_by(col('ACCTNBR')).count().order_by('count', ascending=False).count())\n",
    "sdf_rtxn_issues.group_by(col('trxn_issues')).count().order_by('count', ascending=False).show()\n",
    "# sdf_rtxn_issues.group_by(col('ACCTNBR')).count().order_by('count', ascending=False).show()"
   ]
  },
  {
   "cell_type": "code",
   "execution_count": 84,
   "id": "89b1192d",
   "metadata": {},
   "outputs": [],
   "source": [
    "%%capture\n",
    "# THE FOLLOWING OUTPUT IS WITHELD DUE TO SENSITIVE Personally identifiable information (PII)\n",
    "\n",
    "# We are not interested in the specific type of issue encountered, just if any of the transaction issues \n",
    "# had been encountered previously, therefore we create a window by ACCTNBR & choose the first issue off the top\n",
    "windowSpec2 = Window.partition_by(col(\"ACCTNBR\")).order_by(col('trxn_issues'))\n",
    "\n",
    "sdf_rtxn_issues = (\n",
    "    sdf_rtxn_issues\n",
    "    .select(\n",
    "        col(\"ACCTNBR\"),\n",
    "        col(\"TRXN_ISSUES\"),\n",
    "        f.row_number().over(windowSpec2).alias(\"row_num\")\n",
    "    )\n",
    "    .filter(col(\"row_num\") == 1)\n",
    "    .select('ACCTNBR', 'TRXN_ISSUES')  # comment out to examine 'row_num' within Window; Window is partion of data by ACCTNBR\n",
    ")\n",
    "\n",
    "df_rtxn_issues = sdf_rtxn_issues.to_pandas()\n",
    "\n",
    "def map_trxn_status(row):\n",
    "    valid_statuses = {'Cancelled', 'Error Corrected', 'Suspended', 'Reverse', 'Rejected'}\n",
    "    if row in valid_statuses:\n",
    "        return 1\n",
    "    \n",
    "\n",
    "df_rtxn_issues['TRXN_ISSUES'] = df_rtxn_issues['TRXN_ISSUES'].apply(map_trxn_status)\n",
    "df_rtxn_issues"
   ]
  },
  {
   "cell_type": "code",
   "execution_count": 85,
   "id": "83ae6cfe",
   "metadata": {},
   "outputs": [],
   "source": [
    "final_df = pd.merge(final_df, df_rtxn_issues, on='ACCTNBR', how='left')\n",
    "final_df['TRXN_ISSUES'].fillna(0, inplace=True)\n",
    "final_df['TRXN_ISSUES'] = final_df['TRXN_ISSUES'].astype('int')\n",
    "# final_df"
   ]
  },
  {
   "cell_type": "markdown",
   "id": "28355e8a",
   "metadata": {},
   "source": [
    "## Member Maintenance\n",
    "* Did the given member perform maintenance on their own account during the lookback period?\n",
    "* Since there are a limited number of associated accounts and there appears to be other possible types of maintenance possible we will forego this feature"
   ]
  },
  {
   "cell_type": "code",
   "execution_count": 86,
   "id": "8f735157",
   "metadata": {},
   "outputs": [
    {
     "name": "stdout",
     "output_type": "stream",
     "text": [
      "44\n"
     ]
    }
   ],
   "source": [
    "oc_accounts = inner_join_sample_accounts_to_osibank_table(snow_session, 30)\n",
    "\n",
    "# ACTVCAT: ACTVCATCD, ACTVCATDESC--> Member Maintenance\n",
    "\n",
    "sdf_mbr_maint = (\n",
    "    oc_accounts\n",
    "    .join(\n",
    "        snow_session.table('actv'),\n",
    "        on=oc_accounts['acctnbr']==snow_session.table('actv')['subjacctnbr'],\n",
    "        how='inner',\n",
    "        rusffix='_'\n",
    "    )\n",
    "    .join(\n",
    "        snow_session.table('actvcat'),\n",
    "        on='ACTVCATCD',\n",
    "        how='inner',\n",
    "        rusffix='_'\n",
    "    )\n",
    "    .filter(col('ACTVCATDESC') == 'Member Maintenance')\n",
    "    .select('ACCTNBR', 'ACTVCATDESC')\n",
    ")\n",
    "\n",
    "print(sdf_mbr_maint.count())\n",
    "# sdf_mbr_maint.show()"
   ]
  },
  {
   "cell_type": "markdown",
   "id": "dab950a1",
   "metadata": {},
   "source": [
    "# Finalize & Pickle Model"
   ]
  },
  {
   "cell_type": "code",
   "execution_count": 109,
   "id": "6f5c16e5",
   "metadata": {},
   "outputs": [
    {
     "data": {
      "text/plain": [
       "ACCTNBR              0\n",
       "trxn_acct            0\n",
       "retire_acct          0\n",
       "stmnt_acct           0\n",
       "ACCT_OPEN            0\n",
       "num_acct_roles       0\n",
       "ACCT_AGE_DAYS        0\n",
       "nsf_fees             0\n",
       "uncollected_funds    0\n",
       "atm_withdr           0\n",
       "past_due             0\n",
       "AVG_ACCT_BAL         0\n",
       "acctlockoutflag      0\n",
       "ACCT_TYPE            0\n",
       "acct_solo            0\n",
       "ACCT_OWN_AGE         0\n",
       "own_valid            0\n",
       "visa_holder          0\n",
       "credit_cat           0\n",
       "zipcode              0\n",
       "num_trxn             0\n",
       "RTXN_SOURCE_MODE     0\n",
       "TRXN_ISSUES          0\n",
       "dtype: int64"
      ]
     },
     "execution_count": 109,
     "metadata": {},
     "output_type": "execute_result"
    }
   ],
   "source": [
    "final_df.isna().sum()"
   ]
  },
  {
   "cell_type": "code",
   "execution_count": 87,
   "id": "c14dc0f0",
   "metadata": {},
   "outputs": [],
   "source": [
    "final_df.columns = map(str.lower, final_df.columns)\n",
    "final_df.drop('acctnbr', axis=1, inplace=True)\n",
    "# final_df"
   ]
  },
  {
   "cell_type": "code",
   "execution_count": 111,
   "id": "de1d5740",
   "metadata": {},
   "outputs": [],
   "source": [
    "final_df.to_pickle(\"churn_final_pandas_dataframe\")"
   ]
  },
  {
   "cell_type": "markdown",
   "id": "c5752345",
   "metadata": {},
   "source": [
    "# Close Session"
   ]
  },
  {
   "cell_type": "code",
   "execution_count": 94,
   "id": "ee0796aa",
   "metadata": {},
   "outputs": [],
   "source": [
    "snow_session.close()"
   ]
  },
  {
   "cell_type": "markdown",
   "id": "2d770013",
   "metadata": {},
   "source": [
    "# Lessons Learned"
   ]
  },
  {
   "cell_type": "markdown",
   "id": "3ab13b09",
   "metadata": {},
   "source": [
    "* Snowflake Snowpark does not currently support joining tables from 2 separate databases (all within a given Snowflake instance) without the use of secure views; as I do not have admin permissions on the raw financial databases within Snowflake I am unable to create a secure view within Snowflake which is the recommended procedure\n",
    "    - this is likely due to Snowflake-Snowpark being newer than Snowflake\n",
    "    - A possible work-around was to take our dataframe account numbers (open/closed accounts) and then convert them to a list and then use this list to filter out the desired account numbers\n",
    "        * unfortunately Snowflake has what it calls an expression limit of 16384, meaning only up to 16384 values are allowed in a list for the purposes of filtering a Snowpark DataFrame\n",
    "        * therefore we can get around this limitation by breaking up our accounts by their given indices, such that we have only up to 16384 values per sub-list\n",
    "        * we could create separate Snowflake DataFrames and subsequently union them all together to arrive at our full account list\n",
    "    - this issue was overcome by simply relying on Snowflake SQL.  While Snowpark dataframes have an issue accessing 2-tables from 2-different databases, Snowflake SQL does not.\n",
    "        * It appears Snowflake was designed 1st and foremost for SQL-esque queries where all functional development was focused, while Snowpark has much funtionality it still lacks comparatively\n",
    "* In order to avoid using future data within our model we will need to filter, closed accounts specifically, such that we only use the historical data in the lookback period for the 30-days prior to account closure.\n",
    "    - if we used account data immediately up to account closure we are actually muddying our analysis by including future data\n",
    "    - However if we want to figure out the longevity of an account using the `contractdate` we must be careful not to prematurely end our lookback window for closed accounts as we can arrive at negative days\n",
    "* To use existing SKLearn Machine Learning algorithms within Snowflake we can use 'User-Defined Functions' aka UDFs\n",
    "    - https://docs.snowflake.com/en/developer-guide/snowpark/python/creating-udfs\n",
    "    - 3rd party packages from Anaconda can be incorporated into a Snowflake UDF, e.g.:\n",
    "        \n",
    "        * import xgboost as xgb\n",
    "        * from snowflake.snowpark.functions import udf\n",
    "        \n",
    "        * @udf(packages=[\"numpy\", \"pandas\", \"xgboost==1.5.0\"])\n",
    "        * def compute() -> list:\n",
    "            * return [np.__version__, pd.__version__, xgb.__version__]**\n",
    "* UDFs (User Defined Functions) require appropriate access to a database table in order to create the UDF and use it w/in SQL queries\n",
    "* For whatever underlying reason there may be multiple zipcodes per account, including the same zipcode listed with a different effective date of capture.\n",
    "    - Snowflake: Window, over, parition_by, order_by, row_number()\n",
    "    - https://docs.snowflake.com/en/user-guide/functions-window-using"
   ]
  },
  {
   "cell_type": "code",
   "execution_count": null,
   "id": "24b86987",
   "metadata": {},
   "outputs": [],
   "source": []
  },
  {
   "cell_type": "code",
   "execution_count": null,
   "id": "4c4fa4fc",
   "metadata": {},
   "outputs": [],
   "source": []
  },
  {
   "cell_type": "code",
   "execution_count": null,
   "id": "134528c2",
   "metadata": {},
   "outputs": [],
   "source": []
  },
  {
   "cell_type": "code",
   "execution_count": null,
   "id": "e9491c62",
   "metadata": {},
   "outputs": [],
   "source": []
  },
  {
   "cell_type": "markdown",
   "id": "5d567ecf",
   "metadata": {},
   "source": [
    "# Further Exploration\n",
    "Given the internship time constraint this analysis was concerned with account metadata & transactions themselves have been foregone."
   ]
  },
  {
   "cell_type": "code",
   "execution_count": 113,
   "id": "9d685858",
   "metadata": {},
   "outputs": [
    {
     "ename": "NameError",
     "evalue": "name 'clsd_trxn_cat' is not defined",
     "output_type": "error",
     "traceback": [
      "\u001b[1;31m---------------------------------------------------------------------------\u001b[0m",
      "\u001b[1;31mNameError\u001b[0m                                 Traceback (most recent call last)",
      "Cell \u001b[1;32mIn[113], line 1\u001b[0m\n\u001b[1;32m----> 1\u001b[0m clsd_cat \u001b[38;5;241m=\u001b[39m pd\u001b[38;5;241m.\u001b[39mDataFrame(\u001b[43mclsd_trxn_cat\u001b[49m\u001b[38;5;241m.\u001b[39mvalues[:, :], columns\u001b[38;5;241m=\u001b[39mclsd_trxn_cat\u001b[38;5;241m.\u001b[39mcolumns\u001b[38;5;241m.\u001b[39mvalues, index\u001b[38;5;241m=\u001b[39mclsd_trxn_cat[\u001b[38;5;124m'\u001b[39m\u001b[38;5;124mRTXNSTATDESC\u001b[39m\u001b[38;5;124m'\u001b[39m])\n\u001b[0;32m      2\u001b[0m \u001b[38;5;66;03m# clsd_cat.rename({0: 'CURRRTXNSTATCD', 1: 'COUNT'}, inplace=True, axis=1)\u001b[39;00m\n\u001b[0;32m      3\u001b[0m clsd_cat\u001b[38;5;241m.\u001b[39mreindex(\u001b[38;5;124m\"\u001b[39m\u001b[38;5;124m\"\u001b[39m)\n",
      "\u001b[1;31mNameError\u001b[0m: name 'clsd_trxn_cat' is not defined"
     ]
    }
   ],
   "source": [
    "clsd_cat = pd.DataFrame(clsd_trxn_cat.values[:, :], columns=clsd_trxn_cat.columns.values, index=clsd_trxn_cat['RTXNSTATDESC'])\n",
    "# clsd_cat.rename({0: 'CURRRTXNSTATCD', 1: 'COUNT'}, inplace=True, axis=1)\n",
    "clsd_cat.reindex(\"\")\n",
    "clsd_cat['%'] = clsd_cat.iloc[:, 2] * 100 / clsd_cat.iloc[:, 2].sum()\n",
    "\n",
    "print(\"Closed Accounts: 1/1/2022 - 8/1/2022\")\n",
    "display(clsd_cat)\n",
    "\n",
    "# ax = clsd_cat[['%']].plot(kind=\"bar\", legend=None);\n",
    "ax = clsd_cat[['%']].drop(index=clsd_cat.index[0], axis= 0).plot(kind=\"bar\", legend=None);\n",
    "plt.title(\"Closed Account Transaction Type 1/1/2022 - 8/1/2022 (Percent)\")\n",
    "plt.grid(axis=\"y\")\n",
    "plt.xticks(rotation=45, ha='right');\n",
    "for p in ax.patches:\n",
    "    ax.annotate(str(round(p.get_height(), 4)), (p.get_x() * 1.005, p.get_height() * 1.005))\n",
    "\n",
    "# sns.barplot(\n",
    "#     x=clsd_trxn_cat.values[:, 0], \n",
    "#     y=clsd_trxn_cat.values[:, 1] / clsd_trxn_cat.values[:, 1].sum(),\n",
    "# );"
   ]
  },
  {
   "cell_type": "code",
   "execution_count": null,
   "id": "8f66068e",
   "metadata": {},
   "outputs": [],
   "source": [
    "print(\"closed accounts 1/1/2022 - 8/1/2022:\")\n",
    "closed_acct_rtxn.select(\"TRANAMT\").describe().sort(\"SUMMARY\").show()\n",
    "\n",
    "# boxplot for 'TRANAM'\n",
    "# print(type(closed_acct_rtxn[\"TRANAMT\"]))\n",
    "print(closed_acct_rtxn.count())\n",
    "# sns.boxplot(data=closed_acct_rtxn[\"TRANAMT\"])"
   ]
  },
  {
   "cell_type": "code",
   "execution_count": null,
   "id": "3b715d2a",
   "metadata": {},
   "outputs": [],
   "source": [
    "#RTXNSOURCE\n",
    "\n",
    "clsd_trxn_sourcecd = (closed_acct_rtxn\n",
    " .group_by(\"RTXNSOURCECD\")\n",
    " .count()\n",
    " .order_by(\"count\", ascending=False)\n",
    ").to_pandas()\n",
    "# clsd_trxn_sourcecd\n",
    "\n",
    "# get RTXNSTAT descriptions by merging Pandas DataFrames\n",
    "clsd_trxn_sourcecd = clsd_trxn_sourcecd.merge(\n",
    "    rtxnsource_df, \n",
    "    left_on='RTXNSOURCECD', \n",
    "    right_on='RTXNSOURCECD', \n",
    "    how='left')[['RTXNSOURCECD', 'RTXNSOURCEDESC', 'COUNT']]\n",
    "\n",
    "clsd_trxn_sourcecd.sort_values(by='COUNT', ascending=False)"
   ]
  },
  {
   "cell_type": "code",
   "execution_count": null,
   "id": "b3521e6e",
   "metadata": {},
   "outputs": [],
   "source": [
    "cls_source = pd.DataFrame(\n",
    "    clsd_trxn_sourcecd.values[:, :], \n",
    "    columns=clsd_trxn_sourcecd.columns.values, \n",
    "    index=clsd_trxn_sourcecd['RTXNSOURCEDESC']\n",
    ")\n",
    "\n",
    "# clsd_cat.rename({0: 'CURRRTXNSTATCD', 1: 'COUNT'}, inplace=True, axis=1)\n",
    "cls_source.reindex(\"\")\n",
    "cls_source['%'] = cls_source.iloc[:, 2] * 100 / cls_source.iloc[:, 2].sum()\n",
    "\n",
    "print(\"Closed Accounts: 1/1/2022 - 8/1/2022\")\n",
    "display(cls_source)\n",
    "\n",
    "ax = cls_source[['%']].plot(kind=\"bar\", legend=None);\n",
    "# ax = act_source[['%']].drop(index=act_source.index[0], axis= 0).plot(kind=\"bar\", legend=None);\n",
    "plt.title(\"Closed Account Transaction Source Description (Percent): \\n1/1/2022 - 8/1/2022\")\n",
    "plt.grid(axis=\"y\")\n",
    "plt.xticks(rotation=45, ha='right');\n",
    "for p in ax.patches:\n",
    "    ax.annotate(str(round(p.get_height(), 1)), (p.get_x() * 1.005, p.get_height() * 1.005))"
   ]
  },
  {
   "cell_type": "code",
   "execution_count": null,
   "id": "412a548e",
   "metadata": {},
   "outputs": [],
   "source": [
    "# RTXNTYPCD\n",
    "# rtxntyp_pdf\n",
    "\n",
    "clsd_trxn_typ = (closed_acct_rtxn\n",
    " .group_by(\"RTXNTYPCD\")\n",
    " .count()\n",
    " .order_by(\"count\", ascending=False)\n",
    ").to_pandas()\n",
    "clsd_trxn_typ\n",
    "\n",
    "# get RTXNSTAT descriptions by merging Pandas DataFrames\n",
    "clsd_trxn_typ = clsd_trxn_typ.merge(\n",
    "    rtxntyp_pdf, \n",
    "    left_on='RTXNTYPCD', \n",
    "    right_on='RTXNTYPCD', \n",
    "    how='left')[['RTXNTYPCD', 'RTXNTYPDESC', 'COUNT']]\n",
    "\n",
    "clsd_trxn_typ.sort_values(by='COUNT', ascending=False)"
   ]
  },
  {
   "cell_type": "code",
   "execution_count": null,
   "id": "20f100cc",
   "metadata": {},
   "outputs": [],
   "source": [
    "cls_typ = pd.DataFrame(\n",
    "    clsd_trxn_typ.values[:, :], \n",
    "    columns=clsd_trxn_typ.columns.values, \n",
    "    index=clsd_trxn_typ['RTXNTYPDESC']\n",
    ")\n",
    "\n",
    "# clsd_cat.rename({0: 'CURRRTXNSTATCD', 1: 'COUNT'}, inplace=True, axis=1)\n",
    "# cls_typ.reindex(\"\")\n",
    "cls_typ['%'] = cls_typ.iloc[:, 2] * 100 / cls_typ.iloc[:, 2].sum()\n",
    "\n",
    "print(\"Closed Accounts: 1/1/2022 - 8/1/2022\")\n",
    "# display(cls_typ)\n",
    "cls_typ = cls_typ[cls_typ['%'] > 1]\n",
    "\n",
    "\n",
    "ax = cls_typ[['%']].plot(kind=\"bar\", legend=None);\n",
    "# ax = act_source[['%']].drop(index=act_source.index[0], axis= 0).plot(kind=\"bar\", legend=None);\n",
    "plt.title(\"Closed Account Transaction Type Description (Percent): 1/1/2022 - 8/1/2022\")\n",
    "plt.grid(axis=\"y\")\n",
    "plt.xticks(rotation=45, ha='right');\n",
    "for p in ax.patches:\n",
    "    ax.annotate(str(round(p.get_height(), 1)), (p.get_x() * 1.005, p.get_height() * 1.005))"
   ]
  },
  {
   "cell_type": "markdown",
   "id": "d4221da8",
   "metadata": {},
   "source": [
    "## Open Account Analysis"
   ]
  },
  {
   "cell_type": "code",
   "execution_count": null,
   "id": "13a6ffcd",
   "metadata": {},
   "outputs": [],
   "source": [
    "act_accts_sdf = get_completed_active_accounts_for_timeframe(\n",
    "    snow_session, \n",
    "    clsd_acct_sdf, \n",
    "    begin='1/1/2022', \n",
    "    end='8/1/2022', \n",
    "    lim=None)\n",
    "\n",
    "# print(f\"total number of active acounts 1/1/2022 - 8/1/2022: {act_accts.count():,} accounts\")\n",
    "print(\"\\nactive accounts w/ >= 30  completed ['C'] transactions 1/1/2022 - 8/1/2022:\")\n",
    "pd.DataFrame(act_accts_sdf.collect())"
   ]
  },
  {
   "cell_type": "markdown",
   "id": "6dda8b1f",
   "metadata": {},
   "source": [
    "## Counts of Transaction Types"
   ]
  },
  {
   "cell_type": "code",
   "execution_count": null,
   "id": "c4f88206",
   "metadata": {},
   "outputs": [],
   "source": [
    "act_acct_rtxn = (act_accts_sdf\n",
    "            .join(\n",
    "                snow_session.table(\"RTXN\"), \n",
    "                on='ACCTNBR', \n",
    "                how='inner', \n",
    "                lsuffix='_'\n",
    "            )\n",
    ")\n",
    "\n",
    "print(f\"act_acct_rtxn.count(): {act_acct_rtxn.count():,}\")\n",
    "# pd.DataFrame(act_acct_rtxn.show())\n",
    "# closed_transactions.limit(100).to_pandas()\n",
    "\n",
    "\n",
    "act_trxn_cat = (act_acct_rtxn\n",
    " .group_by(\"CURRRTXNSTATCD\")\n",
    " .count()\n",
    " .order_by(\"count\", ascending=False)\n",
    ").to_pandas()\n",
    "\n",
    "# get RTXNSTAT descriptions by merging Pandas DataFrames\n",
    "act_trxn_cat = act_trxn_cat.merge(\n",
    "    rtxnstat_df, \n",
    "    left_on='CURRRTXNSTATCD', \n",
    "    right_on='RTXNSTATCD', \n",
    "    how='left')[['CURRRTXNSTATCD', 'RTXNSTATDESC', 'COUNT']]\n",
    "\n",
    "act_trxn_cat\n",
    "# VIEW: RTXNSTAT, COLUMN: RTXNSTATCD"
   ]
  },
  {
   "cell_type": "code",
   "execution_count": null,
   "id": "6da32acc",
   "metadata": {},
   "outputs": [],
   "source": [
    "act_cat = pd.DataFrame(act_trxn_cat.values[:, :], columns=clsd_trxn_cat.columns.values, index=act_trxn_cat['RTXNSTATDESC'])\n",
    "# clsd_cat.rename({0: 'CURRRTXNSTATCD', 1: 'COUNT'}, inplace=True, axis=1)\n",
    "act_cat.reindex(\"\")\n",
    "act_cat['%'] = act_cat.iloc[:, 2] * 100 / act_cat.iloc[:, 2].sum()\n",
    "\n",
    "print(\"Active Accounts: 1/1/2022 - 8/1/2022\")\n",
    "display(act_cat)\n",
    "\n",
    "# ax = act_cat[['%']].plot(kind=\"bar\", legend=None);\n",
    "ax = act_cat[['%']].drop(index=act_cat.index[0], axis= 0).plot(kind=\"bar\", legend=None);\n",
    "plt.title(\"Active Account Type (Percent): 1/1/2022 - 8/1/2022\")\n",
    "plt.grid(axis=\"y\")\n",
    "plt.xticks(rotation=45, ha='right');\n",
    "for p in ax.patches:\n",
    "    ax.annotate(str(round(p.get_height(), 4)), (p.get_x() * 1.005, p.get_height() * 1.005))\n",
    "\n",
    "# sns.barplot(\n",
    "#     x=clsd_trxn_cat.values[:, 0], \n",
    "#     y=clsd_trxn_cat.values[:, 1] / clsd_trxn_cat.values[:, 1].sum(),\n",
    "# );"
   ]
  },
  {
   "cell_type": "code",
   "execution_count": null,
   "id": "cf46b655",
   "metadata": {},
   "outputs": [],
   "source": [
    "# RTXNREVERSALREASONCD\n",
    "# TRANAMT\n",
    "\n",
    "print(\"active accounts >= 30 completed transactions 1/1/2022 - 8/1/2022:\")\n",
    "act_acct_rtxn.select(\"TRANAMT\").describe().sort(\"SUMMARY\").show()"
   ]
  },
  {
   "cell_type": "markdown",
   "id": "ace59690",
   "metadata": {},
   "source": [
    "### RTXNSOURCE"
   ]
  },
  {
   "cell_type": "code",
   "execution_count": null,
   "id": "af8f5002",
   "metadata": {},
   "outputs": [],
   "source": [
    "act_trxn_sourcecd = (act_acct_rtxn\n",
    " .group_by(\"RTXNSOURCECD\")\n",
    " .count()\n",
    " .order_by(\"count\", ascending=False)\n",
    ").to_pandas()\n",
    "# act_trxn_sourcecd\n",
    "\n",
    "# get RTXNSTAT descriptions by merging Pandas DataFrames\n",
    "act_trxn_sourcecd = act_trxn_sourcecd.merge(\n",
    "    rtxnsource_df, \n",
    "    left_on='RTXNSOURCECD', \n",
    "    right_on='RTXNSOURCECD', \n",
    "    how='left')[['RTXNSOURCECD', 'RTXNSOURCEDESC', 'COUNT']]\n",
    "\n",
    "act_trxn_sourcecd.sort_values(by='COUNT', ascending=False)"
   ]
  },
  {
   "cell_type": "code",
   "execution_count": null,
   "id": "77a555fc",
   "metadata": {},
   "outputs": [],
   "source": [
    "act_source = pd.DataFrame(\n",
    "    act_trxn_sourcecd.values[:, :], \n",
    "    columns=act_trxn_sourcecd.columns.values, \n",
    "    index=act_trxn_sourcecd['RTXNSOURCEDESC']\n",
    ")\n",
    "\n",
    "# clsd_cat.rename({0: 'CURRRTXNSTATCD', 1: 'COUNT'}, inplace=True, axis=1)\n",
    "act_source.reindex(\"\")\n",
    "act_source['%'] = act_source.iloc[:, 2] * 100 / act_source.iloc[:, 2].sum()\n",
    "\n",
    "print(\"Active Accounts: 1/1/2022 - 8/1/2022\")\n",
    "display(act_source)\n",
    "\n",
    "ax = act_source[['%']].plot(kind=\"bar\", legend=None);\n",
    "# ax = act_source[['%']].drop(index=act_source.index[0], axis= 0).plot(kind=\"bar\", legend=None);\n",
    "plt.title(\"Active Account Source (Percent): 1/1/2022 - 8/1/2022\")\n",
    "plt.grid(axis=\"y\")\n",
    "plt.xticks(rotation=45, ha='right');\n",
    "for p in ax.patches:\n",
    "    ax.annotate(str(round(p.get_height(), 1)), (p.get_x() * 1.005, p.get_height() * 1.005))"
   ]
  },
  {
   "cell_type": "code",
   "execution_count": null,
   "id": "8a936ba0",
   "metadata": {},
   "outputs": [],
   "source": []
  },
  {
   "cell_type": "code",
   "execution_count": null,
   "id": "283b7e31",
   "metadata": {},
   "outputs": [],
   "source": []
  },
  {
   "cell_type": "code",
   "execution_count": null,
   "id": "bf894f9f",
   "metadata": {},
   "outputs": [],
   "source": []
  },
  {
   "cell_type": "markdown",
   "id": "d7a1ef15",
   "metadata": {},
   "source": [
    "### OLD CODE: Expression limitation\n",
    "* Snowflake has a built-in expression limitation of 16,384. This means when we pass a list of account numbers we must limit this to at most 16,384 values.\n",
    "* Most efficient implementation is via using a Numpy array for the Pandas DataFrame indices."
   ]
  },
  {
   "cell_type": "code",
   "execution_count": null,
   "id": "63fba2ce",
   "metadata": {},
   "outputs": [],
   "source": [
    "def overcome_filter_expression_limitation(accts_df, max_lim=16384, printArr=False):\n",
    "    \"\"\"\"\"\"\n",
    "    \n",
    "    # determine numerically how our index can be broken down to accomodate the max expression limitation\n",
    "    arr = np.arange(116001 / max_lim) * max_lim    # 116000 / 16384 ~ 7 iterations\n",
    "    arr = np.concatenate((arr, np.array([len(accts_df)-1])))      # get remainder of indices\n",
    "    arr = arr.astype(np.int32)\n",
    "    \n",
    "    if printArr:\n",
    "        print('Numpy array splits:\\t', arr)\n",
    "    \n",
    "    # break account numbers into digestable length to meet Snowflake's expression limitations\n",
    "    # list comprehension for efficient implementation\n",
    "    series = [\n",
    "        accts['ACCTNBR'].iloc[arr[i-1]:arr[i]+1] if i == np.argmax(arr) else accts['ACCTNBR'].iloc[arr[i-1]:arr[i]]\n",
    "        for i in range(len(arr))\n",
    "        if i > 0\n",
    "    ]    \n",
    "    \n",
    "    return series\n",
    "\n",
    "\n",
    "series = overcome_filter_expression_limitation(accts_df=accts, max_lim=16384, printArr=True)\n",
    "series"
   ]
  }
 ],
 "metadata": {
  "kernelspec": {
   "display_name": "Python 3 (ipykernel)",
   "language": "python",
   "name": "python3"
  },
  "language_info": {
   "codemirror_mode": {
    "name": "ipython",
    "version": 3
   },
   "file_extension": ".py",
   "mimetype": "text/x-python",
   "name": "python",
   "nbconvert_exporter": "python",
   "pygments_lexer": "ipython3",
   "version": "3.10.13"
  }
 },
 "nbformat": 4,
 "nbformat_minor": 5
}
